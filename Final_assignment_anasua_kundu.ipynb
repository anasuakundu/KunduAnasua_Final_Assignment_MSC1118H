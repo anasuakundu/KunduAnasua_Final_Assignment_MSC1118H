{
 "cells": [
  {
   "cell_type": "markdown",
   "metadata": {
    "id": "Z6CyWBDeuoRG"
   },
   "source": [
    "## Loading the Data"
   ]
  },
  {
   "cell_type": "code",
   "execution_count": 7,
   "metadata": {
    "colab": {
     "base_uri": "https://localhost:8080/"
    },
    "executionInfo": {
     "elapsed": 23432,
     "status": "ok",
     "timestamp": 1711752090768,
     "user": {
      "displayName": "anasua kundu",
      "userId": "08045432997393661669"
     },
     "user_tz": 240
    },
    "id": "qM6gygDhzSqe",
    "outputId": "b9e50c02-e930-4ad7-96ae-949695bcaff9"
   },
   "outputs": [],
   "source": [
    "import os\n",
    "folder_path = r\"C:\\Users\\anasu\\Desktop\\Final assignment.MSC1118H\"\n",
    "os.chdir(folder_path)"
   ]
  },
  {
   "cell_type": "code",
   "execution_count": 8,
   "metadata": {
    "colab": {
     "base_uri": "https://localhost:8080/",
     "height": 36
    },
    "executionInfo": {
     "elapsed": 16,
     "status": "ok",
     "timestamp": 1711752090769,
     "user": {
      "displayName": "anasua kundu",
      "userId": "08045432997393661669"
     },
     "user_tz": 240
    },
    "id": "QUpgzJCAz2so",
    "outputId": "b030e1dd-9709-4daa-ac89-97b4a68e1867"
   },
   "outputs": [
    {
     "data": {
      "text/plain": [
       "'C:\\\\Users\\\\anasu\\\\Desktop\\\\Final assignment.MSC1118H'"
      ]
     },
     "execution_count": 8,
     "metadata": {},
     "output_type": "execute_result"
    }
   ],
   "source": [
    "os.getcwd()"
   ]
  },
  {
   "cell_type": "code",
   "execution_count": 9,
   "metadata": {
    "colab": {
     "base_uri": "https://localhost:8080/"
    },
    "executionInfo": {
     "elapsed": 12,
     "status": "ok",
     "timestamp": 1711752090769,
     "user": {
      "displayName": "anasua kundu",
      "userId": "08045432997393661669"
     },
     "user_tz": 240
    },
    "id": "ack9-Kc8z6Lo",
    "outputId": "49a9db6c-37af-4978-c383-7c4a8b5588ed"
   },
   "outputs": [
    {
     "data": {
      "text/plain": [
       "['.ipynb_checkpoints',\n",
       " 'Final_assignment_anasua_kundu.ipynb',\n",
       " 'models.BERT.html',\n",
       " 'models.html',\n",
       " 'results',\n",
       " 'test.txt',\n",
       " 'train.txt',\n",
       " 'val.txt']"
      ]
     },
     "execution_count": 9,
     "metadata": {},
     "output_type": "execute_result"
    }
   ],
   "source": [
    "os.listdir()"
   ]
  },
  {
   "cell_type": "code",
   "execution_count": 11,
   "metadata": {
    "colab": {
     "base_uri": "https://localhost:8080/"
    },
    "executionInfo": {
     "elapsed": 168,
     "status": "ok",
     "timestamp": 1711752096692,
     "user": {
      "displayName": "anasua kundu",
      "userId": "08045432997393661669"
     },
     "user_tz": 240
    },
    "id": "xBMRwVVUz-Ew",
    "outputId": "43cb2ec3-e06d-49cd-90e2-4d205dc8f105"
   },
   "outputs": [
    {
     "name": "stdout",
     "output_type": "stream",
     "text": [
      "Directory is: ./ subdirectories are: ['.ipynb_checkpoints', 'results'] hosted files are: ['Final_assignment_anasua_kundu.ipynb', 'models.BERT.html', 'models.html', 'test.txt', 'train.txt', 'val.txt']\n",
      "Directory is: ./.ipynb_checkpoints subdirectories are: [] hosted files are: ['Final_assignment_anasua_kundu-checkpoint.ipynb']\n",
      "Directory is: ./results subdirectories are: [] hosted files are: []\n"
     ]
    }
   ],
   "source": [
    "for directory, subdiries, file in os.walk(\"./\"):\n",
    "  print(\"Directory is:\", directory, \"subdirectories are:\", subdiries, \"hosted files are:\", file)"
   ]
  },
  {
   "cell_type": "code",
   "execution_count": 12,
   "metadata": {
    "colab": {
     "base_uri": "https://localhost:8080/"
    },
    "executionInfo": {
     "elapsed": 7941,
     "status": "ok",
     "timestamp": 1711752106886,
     "user": {
      "displayName": "anasua kundu",
      "userId": "08045432997393661669"
     },
     "user_tz": 240
    },
    "id": "J0vCVhLB4htp",
    "outputId": "22d0a12a-984a-41cc-e2ed-bfe6860151cd"
   },
   "outputs": [
    {
     "name": "stdout",
     "output_type": "stream",
     "text": [
      "Number of training abstracts: 190654, 190654, 190654\n",
      "Number of validation abstracts: 2500, 2500, 2500\n",
      "Number of test abstracts: 2500, 2500, 2500\n",
      "\n",
      "Sample Abstract ID:\n",
      "24562799\n",
      "\n",
      "Sample Abstract:\n",
      "['Many pathogenic processes and diseases are the result of an erroneous activation of the complement cascade and a number of inhibitors of complement have thus been examined for anti-inflammatory actions .', 'It was recently demonstrated that supraphysiological concentrations of the endogenous complement inhibitor MAp44 ( also denoted MAP1 ) protect against myocardial reperfusion injury .', 'In the present study , we examined the association between outcome after acute myocardial infarction ( MI ) and the plasma levels of MAp44 and its related proteins MASP-1 and MASP-3 in patients with first-time MI .', 'In addition , we compared plasma levels of MAp44 , MASP-1 , and MASP-3 in MI patients to levels in a healthy control group .', 'A total of 192 MI patients and 140 control persons were included .', 'Plasma samples were obtained and analysed with time-resolved immunofluorometric assays determining the plasma levels of MAp44 , MASP-1 , and MASP-3 .', 'The myocardial outcomes ( salvage index and final infarct size ) were measured by gated single-photon emission CT. .', 'MI patients had 18 % higher plasma levels of MAp44 ( IQR 11-25 % ) as compared to the healthy control group ( p < 0.001 .', 'However , neither salvage index ( Spearman rho -0.1 , p = 0.28 ) nor final infarct size ( Spearman rho 0.02 , p = 0.83 ) correlated with plasma levels of MAp44 .', 'Likewise , MASP-1 and MASP-3 were elevated in MI patients ( p = 0.002 and p < 0.001 ) , but the levels were not correlated to outcome .', 'Plasma levels of MAp44 , MASP-1 , and MASP-3 are significantly higher in patients with MI compared to healthy control persons , but are not associated with short-term outcome measured as salvage index and final infarct .']\n",
      "\n",
      "Labels:\n",
      "['BACKGROUND', 'BACKGROUND', 'BACKGROUND', 'BACKGROUND', 'METHODS', 'METHODS', 'METHODS', 'RESULTS', 'RESULTS', 'RESULTS', 'CONCLUSIONS']\n"
     ]
    }
   ],
   "source": [
    "import pandas as pd\n",
    "\n",
    "def load_dataset(file_path):\n",
    "    with open(file_path, 'r', encoding='utf-8') as file:\n",
    "        abstracts, labels, abstract_ids = [], [], []\n",
    "        current_abstract, current_labels = [], []\n",
    "        abstract_id = None\n",
    "        for line in file:\n",
    "            if line.strip():\n",
    "                if line.startswith(\"###\"):\n",
    "                    if current_abstract and current_labels:\n",
    "                        # Append the list of sentences instead of joining them\n",
    "                        abstracts.append(current_abstract)\n",
    "                        labels.append(current_labels)\n",
    "                        abstract_ids.append(abstract_id)\n",
    "                        current_abstract, current_labels = [], []\n",
    "                    abstract_id = line.strip().replace(\"###\", \"\")\n",
    "                    continue\n",
    "                parts = line.split(\"\\t\")\n",
    "                if len(parts) == 2:\n",
    "                    current_labels.append(parts[0])\n",
    "                    current_abstract.append(parts[1].strip())\n",
    "                else:\n",
    "                    print(f\"Skipping malformed line: {line.strip()}\")\n",
    "            else:\n",
    "                if current_abstract and current_labels and abstract_id:\n",
    "                    abstracts.append(current_abstract)\n",
    "                    labels.append(current_labels)\n",
    "                    abstract_ids.append(abstract_id)\n",
    "                    current_abstract, current_labels = [], []\n",
    "\n",
    "        if current_abstract and current_labels and abstract_id:\n",
    "            abstracts.append(current_abstract)\n",
    "            labels.append(current_labels)\n",
    "            abstract_ids.append(abstract_id)\n",
    "\n",
    "    return abstracts, labels, abstract_ids\n",
    "\n",
    "\n",
    "# Load the training, validation, and test sets\n",
    "train_abstracts, train_labels, train_abstract_ids = load_dataset('./train.txt')\n",
    "val_abstracts, val_labels, val_abstract_ids = load_dataset('./val.txt')\n",
    "test_abstracts, test_labels, test_abstract_ids = load_dataset('./test.txt')\n",
    "\n",
    "# Basic Data Exploration\n",
    "print(f\"Number of training abstracts: {len(train_abstracts)}, {len(train_labels)}, {len(train_abstract_ids)}\")\n",
    "print(f\"Number of validation abstracts: {len(val_abstracts)}, {len(val_labels)}, {len(val_abstract_ids)}\")\n",
    "print(f\"Number of test abstracts: {len(test_abstracts)}, {len(test_abstracts)}, {len(test_abstracts)}\")\n",
    "\n",
    "# Examine a sample abstract and its labels\n",
    "sample_index = 0  # Change this to explore other abstracts\n",
    "print(\"\\nSample Abstract ID:\")\n",
    "print(test_abstract_ids[sample_index])\n",
    "print(\"\\nSample Abstract:\")\n",
    "print(test_abstracts[sample_index])\n",
    "print(\"\\nLabels:\")\n",
    "print(test_labels[sample_index])\n"
   ]
  },
  {
   "cell_type": "code",
   "execution_count": 16,
   "metadata": {
    "colab": {
     "base_uri": "https://localhost:8080/"
    },
    "executionInfo": {
     "elapsed": 1102,
     "status": "ok",
     "timestamp": 1711752107987,
     "user": {
      "displayName": "anasua kundu",
      "userId": "08045432997393661669"
     },
     "user_tz": 240
    },
    "id": "6DLN2w6OUJAu",
    "outputId": "a8b40dbe-0223-4939-ea51-195601854c3c"
   },
   "outputs": [
    {
     "name": "stdout",
     "output_type": "stream",
     "text": [
      "Unique Labels in Training Set: {'METHODS', 'RESULTS', 'CONCLUSIONS', 'BACKGROUND', 'OBJECTIVE'}\n",
      "Sentences per Class in Training Set: {'BACKGROUND': 196689, 'METHODS': 722586, 'CONCLUSIONS': 339714, 'RESULTS': 766271, 'OBJECTIVE': 186601}\n",
      "Unique Labels in Validation Set: {'METHODS', 'RESULTS', 'CONCLUSIONS', 'BACKGROUND', 'OBJECTIVE'}\n",
      "Sentences per Class in Validation Set: {'BACKGROUND': 2575, 'RESULTS': 9977, 'CONCLUSIONS': 4396, 'OBJECTIVE': 2425, 'METHODS': 9559}\n",
      "Unique Labels in Test Set: {'METHODS', 'RESULTS', 'CONCLUSIONS', 'BACKGROUND', 'OBJECTIVE'}\n",
      "Sentences per Class in Test Set: {'BACKGROUND': 2663, 'METHODS': 9751, 'RESULTS': 10276, 'CONCLUSIONS': 4426, 'OBJECTIVE': 2377}\n"
     ]
    }
   ],
   "source": [
    "# Function to get unique labels and count sentences per class\n",
    "def explore_data(labels_list):\n",
    "    unique_labels = set()\n",
    "    sentences_per_class = {}\n",
    "\n",
    "    for labels in labels_list:\n",
    "        for label in labels:\n",
    "            unique_labels.add(label)\n",
    "            if label in sentences_per_class:\n",
    "                sentences_per_class[label] += 1\n",
    "            else:\n",
    "                sentences_per_class[label] = 1\n",
    "\n",
    "    return unique_labels, sentences_per_class\n",
    "\n",
    "# Exploring the datasets\n",
    "unique_labels_train, sentences_per_class_train = explore_data(train_labels)\n",
    "unique_labels_val, sentences_per_class_val = explore_data(val_labels)\n",
    "unique_labels_test, sentences_per_class_test = explore_data(test_labels)\n",
    "\n",
    "# Displaying the results for the training set\n",
    "print(f\"Unique Labels in Training Set: {unique_labels_train}\")\n",
    "print(f\"Sentences per Class in Training Set: {sentences_per_class_train}\")\n",
    "\n",
    "# Displaying the results for the validation set\n",
    "print(f\"Unique Labels in Validation Set: {unique_labels_val}\")\n",
    "print(f\"Sentences per Class in Validation Set: {sentences_per_class_val}\")\n",
    "\n",
    "# Displaying the results for the test set\n",
    "print(f\"Unique Labels in Test Set: {unique_labels_test}\")\n",
    "print(f\"Sentences per Class in Test Set: {sentences_per_class_test}\")\n"
   ]
  },
  {
   "cell_type": "code",
   "execution_count": 17,
   "metadata": {
    "colab": {
     "base_uri": "https://localhost:8080/",
     "height": 487
    },
    "executionInfo": {
     "elapsed": 538,
     "status": "ok",
     "timestamp": 1711752114037,
     "user": {
      "displayName": "anasua kundu",
      "userId": "08045432997393661669"
     },
     "user_tz": 240
    },
    "id": "yzRsvv9LVC0y",
    "outputId": "7580828f-72e7-4546-a5a2-f9ef513b326d"
   },
   "outputs": [
    {
     "data": {
      "image/png": "[encoded data removed]",
      "text/plain": [
       "<Figure size 640x480 with 1 Axes>"
      ]
     },
     "metadata": {},
     "output_type": "display_data"
    }
   ],
   "source": [
    "import matplotlib.pyplot as plt\n",
    "# Calculate the total number of sentences in each dataset\n",
    "total_sentences_train = sum(sentences_per_class_train.values())\n",
    "total_sentences_val = sum(sentences_per_class_val.values())\n",
    "total_sentences_test = sum(sentences_per_class_test.values())\n",
    "\n",
    "# Converting to a format suitable for plotting\n",
    "labels = sentences_per_class_train.keys()\n",
    "train_counts = [sentences_per_class_train[label]/total_sentences_train for label in labels]\n",
    "val_counts = [sentences_per_class_val[label]/total_sentences_val for label in labels]\n",
    "test_counts = [sentences_per_class_test[label]/total_sentences_test for label in labels]\n",
    "\n",
    "x = range(len(labels))  # the label locations\n",
    "width = 0.2  # the width of the bars\n",
    "\n",
    "fig, ax = plt.subplots()\n",
    "train_color = 'mediumseagreen'  # A moderate green\n",
    "val_color = 'limegreen'  # A bright green\n",
    "test_color = 'forestgreen'  # A deep green\n",
    "\n",
    "rects1 = ax.bar(x, train_counts, width, label='Train', color=train_color)\n",
    "rects2 = ax.bar([p + width for p in x], val_counts, width, label='Validation', color=val_color)\n",
    "rects3 = ax.bar([p + width * 2 for p in x], test_counts, width, label='Test', color=test_color)\n",
    "\n",
    "# Add some text for labels, title and custom x-axis tick labels, etc.\n",
    "ax.set_ylabel('Counts')\n",
    "ax.set_title('Count of sentences in each class')\n",
    "ax.set_xticks([p + width for p in x])\n",
    "ax.set_xticklabels(labels)\n",
    "ax.legend()\n",
    "\n",
    "plt.xticks(rotation=45)\n",
    "plt.tight_layout()\n",
    "\n",
    "plt.show()\n"
   ]
  },
  {
   "cell_type": "code",
   "execution_count": 18,
   "metadata": {
    "colab": {
     "base_uri": "https://localhost:8080/"
    },
    "executionInfo": {
     "elapsed": 142,
     "status": "ok",
     "timestamp": 1711752124278,
     "user": {
      "displayName": "anasua kundu",
      "userId": "08045432997393661669"
     },
     "user_tz": 240
    },
    "id": "v515L1tGXHD7",
    "outputId": "c82fa888-ab41-4ca9-899b-2e5fd8aafa06"
   },
   "outputs": [
    {
     "data": {
      "text/plain": [
       "1.0"
      ]
     },
     "execution_count": 18,
     "metadata": {},
     "output_type": "execute_result"
    }
   ],
   "source": [
    "# Double check\n",
    "sum(train_counts)"
   ]
  },
  {
   "cell_type": "markdown",
   "metadata": {
    "id": "ieSNg3CVJqNv"
   },
   "source": [
    "##Data Filteration (Part1)\n",
    "Since the dataset is huge and given the colab's limits, we have to work with a subset. THerefore, we only consider 'BACKGROUND', 'METHODS', and 'RESULTS'"
   ]
  },
  {
   "cell_type": "code",
   "execution_count": 19,
   "metadata": {
    "colab": {
     "base_uri": "https://localhost:8080/"
    },
    "executionInfo": {
     "elapsed": 2694,
     "status": "ok",
     "timestamp": 1711752133377,
     "user": {
      "displayName": "anasua kundu",
      "userId": "08045432997393661669"
     },
     "user_tz": 240
    },
    "id": "yqmmNTDQBkTe",
    "outputId": "351bc13b-c35b-4ab3-ca48-a7118ae7c62d"
   },
   "outputs": [
    {
     "name": "stdout",
     "output_type": "stream",
     "text": [
      "Number of training abstracts: 190647, 190647, 190647\n",
      "Number of validation abstracts: 2500, 2500, 2500\n",
      "Number of test abstracts: 2500, 2500, 2500\n",
      "\n",
      "Sample Abstract ID:\n",
      "24562799\n",
      "\n",
      "Sample Abstract:\n",
      "['Many pathogenic processes and diseases are the result of an erroneous activation of the complement cascade and a number of inhibitors of complement have thus been examined for anti-inflammatory actions .', 'It was recently demonstrated that supraphysiological concentrations of the endogenous complement inhibitor MAp44 ( also denoted MAP1 ) protect against myocardial reperfusion injury .', 'In the present study , we examined the association between outcome after acute myocardial infarction ( MI ) and the plasma levels of MAp44 and its related proteins MASP-1 and MASP-3 in patients with first-time MI .', 'In addition , we compared plasma levels of MAp44 , MASP-1 , and MASP-3 in MI patients to levels in a healthy control group .', 'A total of 192 MI patients and 140 control persons were included .', 'Plasma samples were obtained and analysed with time-resolved immunofluorometric assays determining the plasma levels of MAp44 , MASP-1 , and MASP-3 .', 'The myocardial outcomes ( salvage index and final infarct size ) were measured by gated single-photon emission CT. .', 'MI patients had 18 % higher plasma levels of MAp44 ( IQR 11-25 % ) as compared to the healthy control group ( p < 0.001 .', 'However , neither salvage index ( Spearman rho -0.1 , p = 0.28 ) nor final infarct size ( Spearman rho 0.02 , p = 0.83 ) correlated with plasma levels of MAp44 .', 'Likewise , MASP-1 and MASP-3 were elevated in MI patients ( p = 0.002 and p < 0.001 ) , but the levels were not correlated to outcome .']\n",
      "\n",
      "Labels:\n",
      "['BACKGROUND', 'BACKGROUND', 'BACKGROUND', 'BACKGROUND', 'METHODS', 'METHODS', 'METHODS', 'RESULTS', 'RESULTS', 'RESULTS']\n"
     ]
    }
   ],
   "source": [
    "def class_remover(input_abstracts, input_labels, input_abstract_ids):\n",
    "    # Define the labels you want to keep\n",
    "    allowed_labels = ['BACKGROUND', 'METHODS', 'RESULTS']\n",
    "\n",
    "    # Initialize output lists\n",
    "    output_abstracts, output_labels, output_abstract_ids = [], [], []\n",
    "\n",
    "    # Iterate over each abstract, its labels, and its id\n",
    "    for abstract, labels, abstract_id in zip(input_abstracts, input_labels, input_abstract_ids):\n",
    "        # Filter sentences in the current abstract based on allowed labels\n",
    "        filtered_pairs = [(sentence, label) for sentence, label in zip(abstract, labels) if label in allowed_labels]\n",
    "\n",
    "        # Check if there are any sentences left after filtering\n",
    "        if filtered_pairs:\n",
    "            # Unpack sentences and labels from filtered pairs\n",
    "            filtered_abstract, filtered_labels = zip(*filtered_pairs)\n",
    "            # Add the filtered sentences and their labels to the output lists\n",
    "            output_abstracts.append(list(filtered_abstract))\n",
    "            output_labels.append(list(filtered_labels))\n",
    "            output_abstract_ids.append(abstract_id)\n",
    "\n",
    "    return output_abstracts, output_labels, output_abstract_ids\n",
    "\n",
    "\n",
    "train_abstracts, train_labels, train_abstract_ids = class_remover(train_abstracts, train_labels, train_abstract_ids)\n",
    "val_abstracts, val_labels, val_abstract_ids = class_remover(val_abstracts, val_labels, val_abstract_ids)\n",
    "test_abstracts, test_labels, test_abstract_ids = class_remover(test_abstracts, test_labels, test_abstract_ids)\n",
    "\n",
    "# Basic Data Exploration\n",
    "print(f\"Number of training abstracts: {len(train_abstracts)}, {len(train_labels)}, {len(train_abstract_ids)}\")\n",
    "print(f\"Number of validation abstracts: {len(val_abstracts)}, {len(val_labels)}, {len(val_abstract_ids)}\")\n",
    "print(f\"Number of test abstracts: {len(test_abstracts)}, {len(test_abstracts)}, {len(test_abstracts)}\")\n",
    "\n",
    "# Examine a sample abstract and its labels\n",
    "sample_index = 0  # Change this to explore other abstracts\n",
    "print(\"\\nSample Abstract ID:\")\n",
    "print(test_abstract_ids[sample_index])\n",
    "print(\"\\nSample Abstract:\")\n",
    "print(test_abstracts[sample_index])\n",
    "print(\"\\nLabels:\")\n",
    "print(test_labels[sample_index])"
   ]
  },
  {
   "cell_type": "code",
   "execution_count": 20,
   "metadata": {
    "colab": {
     "base_uri": "https://localhost:8080/"
    },
    "executionInfo": {
     "elapsed": 602,
     "status": "ok",
     "timestamp": 1711752137943,
     "user": {
      "displayName": "anasua kundu",
      "userId": "08045432997393661669"
     },
     "user_tz": 240
    },
    "id": "G2po1BGkJ6Kn",
    "outputId": "30d54af6-ecb0-429e-fac6-98e99858c972"
   },
   "outputs": [
    {
     "name": "stdout",
     "output_type": "stream",
     "text": [
      "Unique Labels in Training Set: {'RESULTS', 'METHODS', 'BACKGROUND'}\n",
      "Sentences per Class in Training Set: {'BACKGROUND': 196689, 'METHODS': 722586, 'RESULTS': 766271}\n",
      "Unique Labels in Validation Set: {'RESULTS', 'METHODS', 'BACKGROUND'}\n",
      "Sentences per Class in Validation Set: {'BACKGROUND': 2575, 'RESULTS': 9977, 'METHODS': 9559}\n",
      "Unique Labels in Test Set: {'RESULTS', 'METHODS', 'BACKGROUND'}\n",
      "Sentences per Class in Test Set: {'BACKGROUND': 2663, 'METHODS': 9751, 'RESULTS': 10276}\n"
     ]
    }
   ],
   "source": [
    "# Function to get unique labels and count sentences per class\n",
    "def explore_data(labels_list):\n",
    "    unique_labels = set()\n",
    "    sentences_per_class = {}\n",
    "\n",
    "    for labels in labels_list:\n",
    "        for label in labels:\n",
    "            unique_labels.add(label)\n",
    "            if label in sentences_per_class:\n",
    "                sentences_per_class[label] += 1\n",
    "            else:\n",
    "                sentences_per_class[label] = 1\n",
    "\n",
    "    return unique_labels, sentences_per_class\n",
    "\n",
    "# Exploring the datasets\n",
    "unique_labels_train, sentences_per_class_train = explore_data(train_labels)\n",
    "unique_labels_val, sentences_per_class_val = explore_data(val_labels)\n",
    "unique_labels_test, sentences_per_class_test = explore_data(test_labels)\n",
    "\n",
    "# Displaying the results for the training set\n",
    "print(f\"Unique Labels in Training Set: {unique_labels_train}\")\n",
    "print(f\"Sentences per Class in Training Set: {sentences_per_class_train}\")\n",
    "\n",
    "# Displaying the results for the validation set\n",
    "print(f\"Unique Labels in Validation Set: {unique_labels_val}\")\n",
    "print(f\"Sentences per Class in Validation Set: {sentences_per_class_val}\")\n",
    "\n",
    "# Displaying the results for the test set\n",
    "print(f\"Unique Labels in Test Set: {unique_labels_test}\")\n",
    "print(f\"Sentences per Class in Test Set: {sentences_per_class_test}\")"
   ]
  },
  {
   "cell_type": "code",
   "execution_count": 21,
   "metadata": {
    "colab": {
     "base_uri": "https://localhost:8080/",
     "height": 487
    },
    "executionInfo": {
     "elapsed": 677,
     "status": "ok",
     "timestamp": 1711752145236,
     "user": {
      "displayName": "anasua kundu",
      "userId": "08045432997393661669"
     },
     "user_tz": 240
    },
    "id": "q--MfoqUKEeT",
    "outputId": "fe64d995-9ac7-4ded-f9e8-51c88a49940b"
   },
   "outputs": [
    {
     "data": {
      "image/png": "[encoded data removed]",
      "text/plain": [
       "<Figure size 640x480 with 1 Axes>"
      ]
     },
     "metadata": {},
     "output_type": "display_data"
    }
   ],
   "source": [
    "import matplotlib.pyplot as plt\n",
    "# Calculate the total number of sentences in each dataset\n",
    "total_sentences_train = sum(sentences_per_class_train.values())\n",
    "total_sentences_val = sum(sentences_per_class_val.values())\n",
    "total_sentences_test = sum(sentences_per_class_test.values())\n",
    "\n",
    "# Converting to a format suitable for plotting\n",
    "labels = sentences_per_class_train.keys()\n",
    "train_counts = [sentences_per_class_train[label]/total_sentences_train for label in labels]\n",
    "val_counts = [sentences_per_class_val[label]/total_sentences_val for label in labels]\n",
    "test_counts = [sentences_per_class_test[label]/total_sentences_test for label in labels]\n",
    "\n",
    "x = range(len(labels))  # the label locations\n",
    "width = 0.2  # the width of the bars\n",
    "\n",
    "fig, ax = plt.subplots()\n",
    "train_color = 'mediumseagreen'  # A moderate green\n",
    "val_color = 'limegreen'  # A bright green\n",
    "test_color = 'forestgreen'  # A deep green\n",
    "\n",
    "rects1 = ax.bar(x, train_counts, width, label='Train', color=train_color)\n",
    "rects2 = ax.bar([p + width for p in x], val_counts, width, label='Validation', color=val_color)\n",
    "rects3 = ax.bar([p + width * 2 for p in x], test_counts, width, label='Test', color=test_color)\n",
    "\n",
    "# Add some text for labels, title and custom x-axis tick labels, etc.\n",
    "ax.set_ylabel('Counts')\n",
    "ax.set_title('Count of sentences in each class')\n",
    "ax.set_xticks([p + width for p in x])\n",
    "ax.set_xticklabels(labels)\n",
    "ax.legend()\n",
    "\n",
    "plt.xticks(rotation=45)\n",
    "plt.tight_layout()\n",
    "\n",
    "plt.show()"
   ]
  },
  {
   "cell_type": "markdown",
   "metadata": {
    "id": "4Mre9SNoAsFu"
   },
   "source": [
    "## Reproducible Results"
   ]
  },
  {
   "cell_type": "code",
   "execution_count": 24,
   "metadata": {
    "executionInfo": {
     "elapsed": 4984,
     "status": "ok",
     "timestamp": 1711752159524,
     "user": {
      "displayName": "anasua kundu",
      "userId": "08045432997393661669"
     },
     "user_tz": 240
    },
    "id": "kHzlO88FArSn"
   },
   "outputs": [],
   "source": [
    "# Seeding (to get reproducable results)\n",
    "import torch\n",
    "import numpy as np\n",
    "import random\n",
    "def random_seed(seed_value, use_cuda):\n",
    "    \"\"\"\n",
    "    Parameters\n",
    "    ----------\n",
    "    seed_value : int\n",
    "        The desired seed number\n",
    "    use_cuda : Boolean\n",
    "        True if GPU seeding is desired, False, otherwise\n",
    "\n",
    "    Returns\n",
    "    -------\n",
    "    None.\n",
    "    \"\"\"\n",
    "    np.random.seed(seed_value) # numpy seed\n",
    "    torch.manual_seed(seed_value) # torch cpu vars\n",
    "    random.seed(seed_value) # Python seed\n",
    "    if use_cuda:\n",
    "        torch.cuda.manual_seed(seed_value)\n",
    "        torch.cuda.manual_seed_all(seed_value) # torch gpu vars\n",
    "        torch.backends.cudnn.deterministic = True\n",
    "        torch.backends.cudnn.benchmark = False\n",
    "\n",
    "random_seed(0, True)"
   ]
  },
  {
   "cell_type": "markdown",
   "metadata": {
    "id": "zadstSnw2DRw"
   },
   "source": [
    "##Data Filteration (Part 2)\n",
    "Still the dataset is too large for free version of Google Colab. We need 6K, 2K, and 2K examples for training, validation, and test, respectively"
   ]
  },
  {
   "cell_type": "code",
   "execution_count": 26,
   "metadata": {
    "executionInfo": {
     "elapsed": 606,
     "status": "ok",
     "timestamp": 1711752161385,
     "user": {
      "displayName": "anasua kundu",
      "userId": "08045432997393661669"
     },
     "user_tz": 240
    },
    "id": "lWZhrSMKgKrE"
   },
   "outputs": [],
   "source": [
    "# Flatten the abstract lists\n",
    "train_sentences = [sentence for sublist in train_abstracts for sentence in sublist]\n",
    "val_sentences = [sentence for sublist in val_abstracts for sentence in sublist]\n",
    "test_sentences = [sentence for sublist in test_abstracts for sentence in sublist]"
   ]
  },
  {
   "cell_type": "code",
   "execution_count": 27,
   "metadata": {
    "colab": {
     "base_uri": "https://localhost:8080/"
    },
    "executionInfo": {
     "elapsed": 4166,
     "status": "ok",
     "timestamp": 1711752173593,
     "user": {
      "displayName": "anasua kundu",
      "userId": "08045432997393661669"
     },
     "user_tz": 240
    },
    "id": "DMzS409n0YOh",
    "outputId": "dda03be9-3052-4000-fc08-fd83affc1260"
   },
   "outputs": [
    {
     "name": "stdout",
     "output_type": "stream",
     "text": [
      "Classes: ['BACKGROUND' 'METHODS' 'RESULTS']\n",
      "Encoded Train Labels Sample: [0 0 1]\n",
      "Encoded Validation Labels Sample: [0 2 2]\n",
      "Encoded Test Labels Sample: [0 0 0]\n",
      "Flattened Test Sentences Sample: ['Many pathogenic processes and diseases are the result of an erroneous activation of the complement cascade and a number of inhibitors of complement have thus been examined for anti-inflammatory actions .', 'It was recently demonstrated that supraphysiological concentrations of the endogenous complement inhibitor MAp44 ( also denoted MAP1 ) protect against myocardial reperfusion injury .', 'In the present study , we examined the association between outcome after acute myocardial infarction ( MI ) and the plasma levels of MAp44 and its related proteins MASP-1 and MASP-3 in patients with first-time MI .']\n"
     ]
    }
   ],
   "source": [
    "from sklearn.preprocessing import LabelEncoder\n",
    "\n",
    "# Flatten the label lists\n",
    "train_labels_flat = [label for sublist in train_labels for label in sublist]\n",
    "val_labels_flat = [label for sublist in val_labels for label in sublist]\n",
    "test_labels_flat = [label for sublist in test_labels for label in sublist]\n",
    "\n",
    "# Applying label encoding\n",
    "label_encoder = LabelEncoder()\n",
    "train_labels_encoded = label_encoder.fit_transform(train_labels_flat)\n",
    "val_labels_encoded = label_encoder.transform(val_labels_flat)\n",
    "test_labels_encoded = label_encoder.transform(test_labels_flat)\n",
    "\n",
    "# Verify the encoding\n",
    "print(f\"Classes: {label_encoder.classes_}\")\n",
    "print(f\"Encoded Train Labels Sample: {train_labels_encoded[:3]}\")\n",
    "print(f\"Encoded Validation Labels Sample: {val_labels_encoded[:3]}\")\n",
    "print(f\"Encoded Test Labels Sample: {test_labels_encoded[:3]}\")\n",
    "print(f\"Flattened Test Sentences Sample: {test_sentences[:3]}\")\n"
   ]
  },
  {
   "cell_type": "code",
   "execution_count": 28,
   "metadata": {
    "colab": {
     "base_uri": "https://localhost:8080/"
    },
    "executionInfo": {
     "elapsed": 164,
     "status": "ok",
     "timestamp": 1711752184953,
     "user": {
      "displayName": "anasua kundu",
      "userId": "08045432997393661669"
     },
     "user_tz": 240
    },
    "id": "KG4PKQ9ggv5n",
    "outputId": "9e5924e0-3719-46c4-b486-4349a995f3a4"
   },
   "outputs": [
    {
     "name": "stdout",
     "output_type": "stream",
     "text": [
      "1685546\n",
      "1685546\n",
      "################\n",
      "22111\n",
      "22111\n",
      "################\n",
      "22690\n",
      "22690\n"
     ]
    }
   ],
   "source": [
    "# Double check\n",
    "print(len(train_sentences))\n",
    "print(len(train_labels_encoded))\n",
    "print(\"################\")\n",
    "print(len(val_sentences))\n",
    "print(len(val_labels_encoded))\n",
    "print(\"################\")\n",
    "print(len(test_sentences))\n",
    "print(len(test_labels_encoded))"
   ]
  },
  {
   "cell_type": "code",
   "execution_count": 29,
   "metadata": {
    "colab": {
     "base_uri": "https://localhost:8080/"
    },
    "executionInfo": {
     "elapsed": 1673,
     "status": "ok",
     "timestamp": 1711752188643,
     "user": {
      "displayName": "anasua kundu",
      "userId": "08045432997393661669"
     },
     "user_tz": 240
    },
    "id": "PP-6GKAKMv8e",
    "outputId": "2ab836e4-9587-480b-9dbc-0ee8f43e4d04"
   },
   "outputs": [
    {
     "name": "stdout",
     "output_type": "stream",
     "text": [
      "Subsampled Train Sentences: 6000 - Expected: 6000\n",
      "Subsampled Validation Sentences: 2000 - Expected: 2000\n",
      "Subsampled Test Sentences: 2000 - Expected: 2000\n"
     ]
    }
   ],
   "source": [
    "from sklearn.model_selection import train_test_split\n",
    "\n",
    "# Stratified subsampling for the training set\n",
    "train_sentences_sub, _, train_labels_encoded_sub, _ = train_test_split(\n",
    "    train_sentences, train_labels_encoded, train_size=6000, stratify=train_labels_encoded, random_state=0)\n",
    "\n",
    "# Stratified subsampling for the validation set\n",
    "val_sentences_sub, _, val_labels_encoded_sub, _ = train_test_split(\n",
    "    val_sentences, val_labels_encoded, train_size=2000, stratify=val_labels_encoded, random_state=0)\n",
    "\n",
    "# Stratified subsampling for the test set\n",
    "test_sentences_sub, _, test_labels_encoded_sub, _ = train_test_split(\n",
    "    test_sentences, test_labels_encoded, train_size=2000, stratify=test_labels_encoded, random_state=0)\n",
    "\n",
    "# Verify the sizes\n",
    "print(f\"Subsampled Train Sentences: {len(train_sentences_sub)} - Expected: 6000\")\n",
    "print(f\"Subsampled Validation Sentences: {len(val_sentences_sub)} - Expected: 2000\")\n",
    "print(f\"Subsampled Test Sentences: {len(test_sentences_sub)} - Expected: 2000\")\n"
   ]
  },
  {
   "cell_type": "code",
   "execution_count": 30,
   "metadata": {
    "colab": {
     "base_uri": "https://localhost:8080/",
     "height": 487
    },
    "executionInfo": {
     "elapsed": 499,
     "status": "ok",
     "timestamp": 1711730307648,
     "user": {
      "displayName": "anasua kundu",
      "userId": "08045432997393661669"
     },
     "user_tz": 240
    },
    "id": "n8eMxcTcOO6N",
    "outputId": "b313d68c-3fd9-42e2-a62f-cb8fc5b27713"
   },
   "outputs": [
    {
     "data": {
      "image/png": "[encoded data removed]",
      "text/plain": [
       "<Figure size 640x480 with 1 Axes>"
      ]
     },
     "metadata": {},
     "output_type": "display_data"
    }
   ],
   "source": [
    "import matplotlib.pyplot as plt\n",
    "import numpy as np\n",
    "\n",
    "np.random.seed(0)  # For reproducibility\n",
    "\n",
    "# Calculate the label counts for each set\n",
    "train_counts = np.bincount(train_labels_encoded_sub, minlength=3)\n",
    "val_counts = np.bincount(val_labels_encoded_sub, minlength=3)\n",
    "test_counts = np.bincount(test_labels_encoded_sub, minlength=3)\n",
    "\n",
    "# Define labels for the plot\n",
    "labels = ['Label 0', 'Label 1', 'Label 2']\n",
    "\n",
    "# Define positions of the bars\n",
    "x = np.arange(len(labels))\n",
    "\n",
    "# Width of the bars\n",
    "width = 0.2\n",
    "\n",
    "fig, ax = plt.subplots()\n",
    "rects1 = ax.bar(x - width, train_counts, width, label='Train')\n",
    "rects2 = ax.bar(x, val_counts, width, label='Validation')\n",
    "rects3 = ax.bar(x + width, test_counts, width, label='Test')\n",
    "\n",
    "ax.set_ylabel('Counts')\n",
    "ax.set_title('Label distribution by cohort')\n",
    "ax.set_xticks(x)\n",
    "ax.set_xticklabels(labels)\n",
    "ax.legend()\n",
    "\n",
    "# Function to autolabel the bars with their counts\n",
    "def autolabel(rects):\n",
    "    \"\"\"Attach a text label above each bar in *rects*, displaying its height.\"\"\"\n",
    "    for rect in rects:\n",
    "        height = rect.get_height()\n",
    "        ax.annotate('{}'.format(height),\n",
    "                    xy=(rect.get_x() + rect.get_width() / 2, height),\n",
    "                    xytext=(0, 3),  # 3 points vertical offset\n",
    "                    textcoords=\"offset points\",\n",
    "                    ha='center', va='bottom')\n",
    "\n",
    "autolabel(rects1)\n",
    "autolabel(rects2)\n",
    "autolabel(rects3)\n",
    "\n",
    "fig.tight_layout()\n",
    "\n",
    "plt.show()\n"
   ]
  },
  {
   "cell_type": "code",
   "execution_count": 32,
   "metadata": {
    "executionInfo": {
     "elapsed": 2,
     "status": "ok",
     "timestamp": 1711730307648,
     "user": {
      "displayName": "anasua kundu",
      "userId": "08045432997393661669"
     },
     "user_tz": 240
    },
    "id": "ehw0UTvwPFUD"
   },
   "outputs": [],
   "source": [
    "train_sentences = train_sentences_sub\n",
    "train_labels_encoded = train_labels_encoded_sub\n",
    "\n",
    "val_sentences = val_sentences_sub\n",
    "val_labels_encoded = val_labels_encoded_sub\n",
    "\n",
    "test_sentences = test_sentences_sub\n",
    "test_labels_encoded = test_labels_encoded_sub"
   ]
  },
  {
   "cell_type": "markdown",
   "metadata": {
    "id": "faad278oLHbt"
   },
   "source": [
    "##Baseline"
   ]
  },
  {
   "cell_type": "code",
   "execution_count": 33,
   "metadata": {
    "executionInfo": {
     "elapsed": 182,
     "status": "ok",
     "timestamp": 1711730307829,
     "user": {
      "displayName": "anasua kundu",
      "userId": "08045432997393661669"
     },
     "user_tz": 240
    },
    "id": "y223WL0qpMAQ"
   },
   "outputs": [],
   "source": [
    "def extract_features(sentences):\n",
    "    features = []\n",
    "    for sentence in sentences:\n",
    "        char_count = len(sentence) # - Character Count\n",
    "        word_count = len(sentence.split()) # - Word Count\n",
    "        avg_word_length = char_count / word_count if word_count else 0 # - Average Word Length\n",
    "        vocabulary_richness = len(set(sentence.split())) / word_count if word_count else 0 # - Vocabulary Richness\n",
    "        features.append([char_count, word_count, avg_word_length, vocabulary_richness])\n",
    "    return np.array(features)\n",
    "\n",
    "X_train = extract_features(train_sentences)\n",
    "y_train = np.array(train_labels_encoded)\n",
    "\n",
    "X_val = extract_features(val_sentences)\n",
    "y_val = np.array(val_labels_encoded)\n",
    "\n",
    "X_test = extract_features(test_sentences)\n",
    "y_test = np.array(test_labels_encoded)"
   ]
  },
  {
   "cell_type": "code",
   "execution_count": 34,
   "metadata": {
    "colab": {
     "base_uri": "https://localhost:8080/"
    },
    "executionInfo": {
     "elapsed": 3,
     "status": "ok",
     "timestamp": 1711730307830,
     "user": {
      "displayName": "anasua kundu",
      "userId": "08045432997393661669"
     },
     "user_tz": 240
    },
    "id": "LzMt7GsEqLYg",
    "outputId": "d497eb2c-6f13-472b-d375-cc85669f565d"
   },
   "outputs": [
    {
     "data": {
      "text/plain": [
       "array([319.        ,  60.        ,   5.31666667,   0.6       ])"
      ]
     },
     "execution_count": 34,
     "metadata": {},
     "output_type": "execute_result"
    }
   ],
   "source": [
    "# double_check\n",
    "X_train[0]"
   ]
  },
  {
   "cell_type": "markdown",
   "metadata": {
    "id": "w6BC7v5zq9ey"
   },
   "source": [
    "Accuracy baseline"
   ]
  },
  {
   "cell_type": "code",
   "execution_count": 37,
   "metadata": {
    "colab": {
     "base_uri": "https://localhost:8080/",
     "height": 725
    },
    "executionInfo": {
     "elapsed": 347,
     "status": "ok",
     "timestamp": 1711730308175,
     "user": {
      "displayName": "anasua kundu",
      "userId": "08045432997393661669"
     },
     "user_tz": 240
    },
    "id": "Z0zTuM30rBaf",
    "outputId": "1d3cc546-aab9-4bd0-bd36-471ec285774b"
   },
   "outputs": [
    {
     "name": "stdout",
     "output_type": "stream",
     "text": [
      "Baseline Accuracy is: 0.453\n"
     ]
    },
    {
     "data": {
      "image/png": "[encoded data removed]",
      "text/plain": [
       "<Figure size 1000x700 with 1 Axes>"
      ]
     },
     "metadata": {},
     "output_type": "display_data"
    }
   ],
   "source": [
    "from sklearn.metrics import accuracy_score, confusion_matrix\n",
    "import matplotlib.pyplot as plt\n",
    "import seaborn as sns\n",
    "\n",
    "most_frequent_class = np.bincount(y_train).argmax()\n",
    "\n",
    "# Create predictions for the test set\n",
    "y_pred = np.full_like(y_test, fill_value=most_frequent_class)\n",
    "\n",
    "# Calculate accuracy on the test set\n",
    "accuracy = accuracy_score(y_test, y_pred)\n",
    "\n",
    "# Generate the confusion matrix for the test set\n",
    "conf_matrix = confusion_matrix(y_test, y_pred)\n",
    "\n",
    "print(\"Baseline Accuracy is:\", accuracy)\n",
    "\n",
    "plt.figure(figsize=(10, 7))\n",
    "sns.heatmap(conf_matrix, annot=True, fmt='d', cmap='Blues', cbar=False)\n",
    "plt.title('Confusion Matrix')\n",
    "plt.xlabel('Predicted Label')\n",
    "plt.ylabel('True Label')\n",
    "\n",
    "plt.xticks(ticks=np.arange(len(label_encoder.classes_)) + 0.5, labels=label_encoder.classes_, rotation=45)\n",
    "plt.yticks(ticks=np.arange(len(label_encoder.classes_)) + 0.5, labels=label_encoder.classes_, rotation=0)\n",
    "\n",
    "plt.show()\n",
    "\n"
   ]
  },
  {
   "cell_type": "markdown",
   "metadata": {
    "id": "y4CkVmlJtUnc"
   },
   "source": [
    "##Baseline model with basic features"
   ]
  },
  {
   "cell_type": "code",
   "execution_count": 38,
   "metadata": {
    "colab": {
     "base_uri": "https://localhost:8080/",
     "height": 743
    },
    "executionInfo": {
     "elapsed": 748,
     "status": "ok",
     "timestamp": 1711730308917,
     "user": {
      "displayName": "anasua kundu",
      "userId": "08045432997393661669"
     },
     "user_tz": 240
    },
    "id": "D00yfxxyAQs-",
    "outputId": "0eba6524-5b88-4097-d18d-46a8c140b449"
   },
   "outputs": [
    {
     "name": "stdout",
     "output_type": "stream",
     "text": [
      "Accuracy of XGB with basic features is 0.522\n",
      "The operation took  0.55  seconds\n"
     ]
    },
    {
     "data": {
      "image/png": "[encoded data removed]",
      "text/plain": [
       "<Figure size 1000x700 with 1 Axes>"
      ]
     },
     "metadata": {},
     "output_type": "display_data"
    }
   ],
   "source": [
    "random_seed(0, True)\n",
    "from xgboost import XGBClassifier\n",
    "import time\n",
    "start_time = time.time() #time the ops\n",
    "clf = XGBClassifier(random_state=0)\n",
    "clf.fit(X_train, y_train)\n",
    "y_pred = clf.predict(X_test)\n",
    "\n",
    "print(\"Accuracy of XGB with basic features is\", accuracy_score(y_test, y_pred))\n",
    "#time the ops\n",
    "end_time = time.time()\n",
    "elapsed_time = end_time - start_time\n",
    "print(\"The operation took \", round(elapsed_time, 2), \" seconds\")\n",
    "\n",
    "# Generate the confusion matrix for the test set\n",
    "conf_matrix = confusion_matrix(y_test, y_pred)\n",
    "\n",
    "plt.figure(figsize=(10, 7))\n",
    "sns.heatmap(conf_matrix, annot=True, fmt='d', cmap='Blues', cbar=False)\n",
    "plt.title('Confusion Matrix')\n",
    "plt.xlabel('Predicted Label')\n",
    "plt.ylabel('True Label')\n",
    "\n",
    "plt.xticks(ticks=np.arange(len(label_encoder.classes_)) + 0.5, labels=label_encoder.classes_, rotation=45)\n",
    "plt.yticks(ticks=np.arange(len(label_encoder.classes_)) + 0.5, labels=label_encoder.classes_, rotation=0)\n",
    "\n",
    "plt.show()"
   ]
  },
  {
   "cell_type": "markdown",
   "metadata": {
    "id": "-F8QcEdXGX50"
   },
   "source": [
    "## **FInal Assignment**\n",
    "\n",
    "## No. 1: Grid Search\n",
    "\n"
   ]
  },
  {
   "cell_type": "code",
   "execution_count": 39,
   "metadata": {
    "colab": {
     "base_uri": "https://localhost:8080/"
    },
    "executionInfo": {
     "elapsed": 1579,
     "status": "ok",
     "timestamp": 1711730310493,
     "user": {
      "displayName": "anasua kundu",
      "userId": "08045432997393661669"
     },
     "user_tz": 240
    },
    "id": "X8_2D52cGsr2",
    "outputId": "3e3f24ae-224e-4f65-a483-d71f939d1b39"
   },
   "outputs": [
    {
     "name": "stdout",
     "output_type": "stream",
     "text": [
      "Training time: 0.27  seconds\n",
      "Training time: 0.26  seconds\n",
      "Training time: 0.32  seconds\n",
      "Training time: 0.34  seconds\n",
      "\n",
      "Individual accuracies for each hyperparameter combination:\n",
      "max_depth=3, learning_rate=0.1: 0.5445\n",
      "max_depth=3, learning_rate=0.01: 0.551\n",
      "max_depth=4, learning_rate=0.1: 0.5365\n",
      "max_depth=4, learning_rate=0.01: 0.5395\n",
      "\n",
      "Best hyperparameters: (3, 0.01)\n",
      "Best accuracy: 0.551\n"
     ]
    }
   ],
   "source": [
    "random_seed(0, True)\n",
    "\n",
    "# Defining hyperparameters\n",
    "max_depth_values = [3, 4]\n",
    "learning_rate_values = [0.1, 0.01]\n",
    "\n",
    "# Defining accuracy\n",
    "accuracy_dict = {}\n",
    "\n",
    "# Loop through each combination of hyperparameters\n",
    "for max_depth in max_depth_values:\n",
    "    for learning_rate in learning_rate_values:\n",
    "        clf = XGBClassifier(max_depth=max_depth, learning_rate=learning_rate, random_state=0)\n",
    "        start_time = time.time()\n",
    "        clf.fit(X_train, y_train)\n",
    "        y_pred = clf.predict(X_val)\n",
    "        end_time = time.time()\n",
    "        elapsed_time = end_time - start_time\n",
    "        print(\"Training time:\", round(elapsed_time, 2), \" seconds\")\n",
    "\n",
    "        # Calculate accuracy\n",
    "        accuracy = accuracy_score(y_val, y_pred)\n",
    "        accuracy_dict[(max_depth, learning_rate)] = accuracy\n",
    "\n",
    "# individual accuracies for each hyperparameter combination\n",
    "print(\"\\nIndividual accuracies for each hyperparameter combination:\")\n",
    "for hyperparams, accuracy in accuracy_dict.items():\n",
    "    max_depth, learning_rate = hyperparams\n",
    "    print(f\"max_depth={max_depth}, learning_rate={learning_rate}: {accuracy}\")\n",
    "\n",
    "# best accuracy and corresponding hyperparameters\n",
    "best_hyperparameters = max(accuracy_dict, key=accuracy_dict.get)\n",
    "best_accuracy = accuracy_dict[best_hyperparameters]\n",
    "print(\"\\nBest hyperparameters:\", best_hyperparameters)\n",
    "print(\"Best accuracy:\", best_accuracy)"
   ]
  },
  {
   "cell_type": "markdown",
   "metadata": {
    "id": "1k6_Jmc4yN_M"
   },
   "source": [
    "#Best Hyper parameters were max depth: 3 and learning time 0.01\n",
    "The accuracy of the model was 0.551"
   ]
  },
  {
   "cell_type": "markdown",
   "metadata": {
    "id": "C-9JJibKzAA6"
   },
   "source": [
    "## No. 2: Update the model with best hyperparameters and show confusion matrix and multiclass F1 Score"
   ]
  },
  {
   "cell_type": "code",
   "execution_count": 40,
   "metadata": {
    "colab": {
     "base_uri": "https://localhost:8080/",
     "height": 743
    },
    "executionInfo": {
     "elapsed": 28769,
     "status": "ok",
     "timestamp": 1711730339259,
     "user": {
      "displayName": "anasua kundu",
      "userId": "08045432997393661669"
     },
     "user_tz": 240
    },
    "id": "Gf75HrDEybyX",
    "outputId": "c59330c3-598a-4beb-e99a-86b640eba71d"
   },
   "outputs": [
    {
     "name": "stdout",
     "output_type": "stream",
     "text": [
      "The operation took  31.15  seconds\n"
     ]
    },
    {
     "data": {
      "image/png": "[encoded data removed]",
      "text/plain": [
       "<Figure size 1000x700 with 1 Axes>"
      ]
     },
     "metadata": {},
     "output_type": "display_data"
    },
    {
     "name": "stdout",
     "output_type": "stream",
     "text": [
      "Average F1 score for the XGBoost model is: 0.5495 with 95% Confidence Interval of [ 0.5495 , 0.5495 ]\n"
     ]
    }
   ],
   "source": [
    "###Update the model with best hyperparameters\n",
    "# Combining train and validation set\n",
    "combined_X_train_val = np.concatenate((X_train, X_val), axis=0)\n",
    "combined_y_train_val = np.concatenate((y_train, y_val), axis=0)\n",
    "\n",
    "#Building final XGboost model\n",
    "random_seed(0, True)\n",
    "start_time = time.time()\n",
    "N = 100 #number of experiments\n",
    "experiments_performances = []\n",
    "for i in range(N):\n",
    "  clf = XGBClassifier(max_depth=3, learning_rate=0.01, random_state=0)\n",
    "  clf.fit(combined_X_train_val, combined_y_train_val)\n",
    "  y_pred = clf.predict(X_test)\n",
    "\n",
    "#time the ops\n",
    "end_time = time.time()\n",
    "elapsed_time = end_time - start_time\n",
    "print(\"The operation took \", round(elapsed_time, 2), \" seconds\")\n",
    "\n",
    "# Generate the confusion matrix for the test set\n",
    "conf_matrix = confusion_matrix(y_test, y_pred)\n",
    "\n",
    "plt.figure(figsize=(10, 7))\n",
    "sns.heatmap(conf_matrix, annot=True, fmt='d', cmap='Blues', cbar=False)\n",
    "plt.title('Confusion Matrix')\n",
    "plt.xlabel('Predicted Label')\n",
    "plt.ylabel('True Label')\n",
    "\n",
    "plt.xticks(ticks=np.arange(len(label_encoder.classes_)) + 0.5, labels=label_encoder.classes_, rotation=45)\n",
    "plt.yticks(ticks=np.arange(len(label_encoder.classes_)) + 0.5, labels=label_encoder.classes_, rotation=0)\n",
    "\n",
    "plt.show()\n",
    "\n",
    "###Multiclass F1 score\n",
    "from sklearn.metrics import f1_score\n",
    "experiments_performances.append(f1_score(y_test, y_pred, average='micro'))\n",
    "mean_performance = np.mean(experiments_performances)\n",
    "std_performance = np.std(experiments_performances)\n",
    "CI_start = mean_performance - 1.96 * std_performance/np.sqrt(N)\n",
    "CI_end = mean_performance + 1.96 * std_performance/np.sqrt(N)\n",
    "print(\"Average F1 score for the XGBoost model is:\", mean_performance, \"with 95% Confidence Interval of [\", CI_start, ',', CI_end, ']' )\n"
   ]
  },
  {
   "cell_type": "markdown",
   "metadata": {},
   "source": [
    "#Multiclass average F1 score for the XGBoost model is: 0.55 with 95% Confidence Interval of [0.55 , 0.55]"
   ]
  },
  {
   "cell_type": "markdown",
   "metadata": {
    "id": "f86jLux6K8MK"
   },
   "source": [
    "### No. 3: LSTM model with same basic features"
   ]
  },
  {
   "cell_type": "code",
   "execution_count": 41,
   "metadata": {
    "executionInfo": {
     "elapsed": 8,
     "status": "ok",
     "timestamp": 1711730339260,
     "user": {
      "displayName": "anasua kundu",
      "userId": "08045432997393661669"
     },
     "user_tz": 240
    },
    "id": "DUiKAcac3675"
   },
   "outputs": [],
   "source": [
    "import torch\n",
    "import torch.nn as nn\n",
    "\n",
    "# Define improved LSTM model\n",
    "class ImprovedLSTM(nn.Module):\n",
    "    def __init__(self, input_dim, hidden_dim, output_dim, num_layers=2, bidirectional=False, dropout_rate=0.5):\n",
    "        super(ImprovedLSTM, self).__init__()\n",
    "        self.lstm = nn.LSTM(input_dim, hidden_dim, num_layers=num_layers,\n",
    "                            batch_first=True, bidirectional=bidirectional, dropout=dropout_rate)\n",
    "        self.fc = nn.Linear(hidden_dim * (2 if bidirectional else 1), output_dim)\n",
    "        self.dropout = nn.Dropout(dropout_rate)\n",
    "\n",
    "    def forward(self, x):\n",
    "        x = self.dropout(x)\n",
    "        x, (h_n, c_n) = self.lstm(x)\n",
    "        # If bidirectional, concatenate the final forward and backward hidden state\n",
    "        if self.lstm.bidirectional:\n",
    "            x = torch.cat((h_n[-2,:,:], h_n[-1,:,:]), dim = 1)\n",
    "        else:\n",
    "            x = h_n[-1,:,:]\n",
    "        x = self.dropout(x)\n",
    "        x = self.fc(x)\n",
    "        return x"
   ]
  },
  {
   "cell_type": "markdown",
   "metadata": {},
   "source": [
    "##Staring with epoch 5"
   ]
  },
  {
   "cell_type": "code",
   "execution_count": 42,
   "metadata": {
    "colab": {
     "base_uri": "https://localhost:8080/"
    },
    "executionInfo": {
     "elapsed": 78210,
     "status": "ok",
     "timestamp": 1711730417463,
     "user": {
      "displayName": "anasua kundu",
      "userId": "08045432997393661669"
     },
     "user_tz": 240
    },
    "id": "cJue6srmhjX3",
    "outputId": "e9d615be-913b-4bd0-9a59-1d54eee4b9a5"
   },
   "outputs": [
    {
     "name": "stdout",
     "output_type": "stream",
     "text": [
      "working on experimnet  0  from  100\n",
      "working on experimnet  10  from  100\n",
      "working on experimnet  20  from  100\n",
      "working on experimnet  30  from  100\n",
      "working on experimnet  40  from  100\n",
      "working on experimnet  50  from  100\n",
      "working on experimnet  60  from  100\n",
      "working on experimnet  70  from  100\n",
      "working on experimnet  80  from  100\n",
      "working on experimnet  90  from  100\n",
      "Average AUC performance for the advanced LSTM model is: 0.6674387787457169 with 95% Confidence Interval of [ 0.6674387787457169 , 0.6674387787457169 ]\n",
      "The operation took  32.58  seconds\n"
     ]
    }
   ],
   "source": [
    "random_seed(0, True)\n",
    "from sklearn.metrics import roc_auc_score\n",
    "from sklearn.preprocessing import StandardScaler\n",
    "import numpy as np\n",
    "import torch.optim as optim\n",
    "import time\n",
    "\n",
    "# Set device for PyTorch (GPU if available)\n",
    "device = torch.device(\"cuda\" if torch.cuda.is_available() else \"cpu\")\n",
    "\n",
    "# Standardize features of X_train\n",
    "scaler = StandardScaler()\n",
    "X_train_scaled = scaler.fit_transform(X_train)\n",
    "X_train_scaled = torch.tensor(X_train_scaled, dtype=torch.float32).to(device)\n",
    "X_train_scaled = X_train_scaled.unsqueeze(1)\n",
    "\n",
    "# Convert y_train labels to a PyTorch tensor\n",
    "label_encoder = LabelEncoder()\n",
    "y_train_encoded = label_encoder.fit_transform(y_train)\n",
    "y_train_tensor = torch.tensor(y_train_encoded, dtype=torch.long).to(device)\n",
    "\n",
    "# Standardize features of X_val\n",
    "scaler = StandardScaler()\n",
    "X_val_scaled = scaler.fit_transform(X_val)\n",
    "X_val_scaled = torch.tensor(X_val_scaled, dtype=torch.float32).to(device)\n",
    "X_val_scaled = X_val_scaled.unsqueeze(1)\n",
    "\n",
    "# Convert y_val labels to a PyTorch tensor\n",
    "label_encoder = LabelEncoder()\n",
    "y_val_encoded = label_encoder.fit_transform(y_val)\n",
    "y_val_tensor = torch.tensor(y_val_encoded, dtype=torch.long).to(device)\n",
    "\n",
    "# Hyperparameters\n",
    "learning_rate = 0.001\n",
    "epochs = 5\n",
    "\n",
    "# Initialize the LSTM model\n",
    "input_dim = X_train_scaled.shape[2]\n",
    "hidden_dim = 10\n",
    "output_dim = 3\n",
    "model = ImprovedLSTM(input_dim=input_dim, hidden_dim=50, output_dim=3, num_layers=2, bidirectional=True, dropout_rate=0.5)\n",
    "model = model.to(device)\n",
    "\n",
    "# Loss and optimizer\n",
    "criterion = nn.CrossEntropyLoss()\n",
    "optimizer = optim.Adam(model.parameters(), lr=learning_rate)\n",
    "\n",
    "# Start time\n",
    "start_time = time.time()\n",
    "N = 100  # number of experiments\n",
    "experiments_performances = []\n",
    "for i in range(N):\n",
    "    if i%10==0:\n",
    "      print(\"working on experimnet \", i, ' from ', N)\n",
    "      # Training loop\n",
    "    for epoch in range(epochs):\n",
    "        model.train()\n",
    "        optimizer.zero_grad()\n",
    "        outputs = model(X_train_scaled)\n",
    "        loss = criterion(outputs, y_train_tensor)\n",
    "        loss.backward()\n",
    "        optimizer.step()\n",
    "\n",
    "    # Evaluate the model\n",
    "    model.eval()\n",
    "with torch.no_grad():\n",
    "    outputs = model(X_val_scaled)\n",
    "    predictions = torch.softmax(outputs, dim=1)\n",
    "    auc_score = roc_auc_score(y_val_tensor.cpu(), predictions.cpu(), multi_class='ovr')\n",
    "    experiments_performances.append(auc_score)\n",
    "\n",
    "mean_performance = np.mean(experiments_performances)\n",
    "std_performance = np.std(experiments_performances)\n",
    "CI_start = mean_performance - 1.96 * std_performance/np.sqrt(N)\n",
    "CI_end = mean_performance + 1.96 * std_performance/np.sqrt(N)\n",
    "print(\"Average AUC performance for the advanced LSTM model is:\", mean_performance, \"with 95% Confidence Interval of [\", CI_start, ',', CI_end, ']' )\n",
    "#time the ops\n",
    "end_time = time.time()\n",
    "elapsed_time = end_time - start_time\n",
    "print(\"The operation took \", round(elapsed_time, 2), \" seconds\")"
   ]
  },
  {
   "cell_type": "markdown",
   "metadata": {
    "id": "nK3huxGykMj3"
   },
   "source": [
    "##Changing epoch to 25"
   ]
  },
  {
   "cell_type": "code",
   "execution_count": 43,
   "metadata": {
    "colab": {
     "base_uri": "https://localhost:8080/"
    },
    "executionInfo": {
     "elapsed": 312877,
     "status": "ok",
     "timestamp": 1711731894864,
     "user": {
      "displayName": "anasua kundu",
      "userId": "08045432997393661669"
     },
     "user_tz": 240
    },
    "id": "ueZOZjzFkWOg",
    "outputId": "71510e5f-a87c-4bd1-e7d3-ec386ba7c234"
   },
   "outputs": [
    {
     "name": "stdout",
     "output_type": "stream",
     "text": [
      "working on experimnet  0  from  100\n",
      "working on experimnet  10  from  100\n",
      "working on experimnet  20  from  100\n",
      "working on experimnet  30  from  100\n",
      "working on experimnet  40  from  100\n",
      "working on experimnet  50  from  100\n",
      "working on experimnet  60  from  100\n",
      "working on experimnet  70  from  100\n",
      "working on experimnet  80  from  100\n",
      "working on experimnet  90  from  100\n",
      "Average AUC performance for the advanced LSTM model is: 0.6785114804709825 with 95% Confidence Interval of [ 0.6785114804709825 , 0.6785114804709825 ]\n",
      "The operation took  160.62  seconds\n"
     ]
    }
   ],
   "source": [
    "random_seed(0, True)\n",
    "\n",
    "# Set device for PyTorch (GPU if available)\n",
    "device = torch.device(\"cuda\" if torch.cuda.is_available() else \"cpu\")\n",
    "\n",
    "# Standardize features of X_train\n",
    "scaler = StandardScaler()\n",
    "X_train_scaled = scaler.fit_transform(X_train)\n",
    "X_train_scaled = torch.tensor(X_train_scaled, dtype=torch.float32).to(device)\n",
    "X_train_scaled = X_train_scaled.unsqueeze(1)\n",
    "\n",
    "# Convert y_train labels to a PyTorch tensor\n",
    "label_encoder = LabelEncoder()\n",
    "y_train_encoded = label_encoder.fit_transform(y_train)\n",
    "y_train_tensor = torch.tensor(y_train_encoded, dtype=torch.long).to(device)\n",
    "\n",
    "# Standardize features of X_val\n",
    "scaler = StandardScaler()\n",
    "X_val_scaled = scaler.fit_transform(X_val)\n",
    "X_val_scaled = torch.tensor(X_val_scaled, dtype=torch.float32).to(device)\n",
    "X_val_scaled = X_val_scaled.unsqueeze(1)\n",
    "\n",
    "# Convert y_val labels to a PyTorch tensor\n",
    "label_encoder = LabelEncoder()\n",
    "y_val_encoded = label_encoder.fit_transform(y_val)\n",
    "y_val_tensor = torch.tensor(y_val_encoded, dtype=torch.long).to(device)\n",
    "\n",
    "# Hyperparameters\n",
    "learning_rate = 0.001\n",
    "epochs = 25\n",
    "\n",
    "# Initialize the LSTM model\n",
    "input_dim = X_train_scaled.shape[2]\n",
    "model = ImprovedLSTM(input_dim=input_dim, hidden_dim=50, output_dim=3, num_layers=2, bidirectional=True, dropout_rate=0.5)\n",
    "model = model.to(device)\n",
    "\n",
    "# Loss and optimizer\n",
    "criterion = nn.CrossEntropyLoss()\n",
    "optimizer = optim.Adam(model.parameters(), lr=learning_rate)\n",
    "\n",
    "# Start time\n",
    "start_time = time.time()\n",
    "N = 100  # number of experiments\n",
    "experiments_performances = []\n",
    "for i in range(N):\n",
    "    if i%10==0:\n",
    "      print(\"working on experimnet \", i, ' from ', N)\n",
    "      # Training loop\n",
    "    for epoch in range(epochs):\n",
    "        model.train()\n",
    "        optimizer.zero_grad()\n",
    "        outputs = model(X_train_scaled)\n",
    "        loss = criterion(outputs, y_train_tensor)\n",
    "        loss.backward()\n",
    "        optimizer.step()\n",
    "\n",
    "    # Evaluate the model\n",
    "    model.eval()\n",
    "with torch.no_grad():\n",
    "    outputs = model(X_val_scaled)\n",
    "    predictions = torch.softmax(outputs, dim=1)\n",
    "    auc_score = roc_auc_score(y_val_tensor.cpu(), predictions.cpu(), multi_class='ovr')\n",
    "    experiments_performances.append(auc_score)\n",
    "\n",
    "mean_performance = np.mean(experiments_performances)\n",
    "std_performance = np.std(experiments_performances)\n",
    "CI_start = mean_performance - 1.96 * std_performance/np.sqrt(N)\n",
    "CI_end = mean_performance + 1.96 * std_performance/np.sqrt(N)\n",
    "print(\"Average AUC performance for the advanced LSTM model is:\", mean_performance, \"with 95% Confidence Interval of [\", CI_start, ',', CI_end, ']' )\n",
    "#time the ops\n",
    "end_time = time.time()\n",
    "elapsed_time = end_time - start_time\n",
    "print(\"The operation took \", round(elapsed_time, 2), \" seconds\")"
   ]
  },
  {
   "cell_type": "markdown",
   "metadata": {
    "id": "xMYL7cVphUjO"
   },
   "source": [
    "##Changing epoch to 50"
   ]
  },
  {
   "cell_type": "code",
   "execution_count": 44,
   "metadata": {
    "colab": {
     "base_uri": "https://localhost:8080/"
    },
    "executionInfo": {
     "elapsed": 623288,
     "status": "ok",
     "timestamp": 1711732540251,
     "user": {
      "displayName": "anasua kundu",
      "userId": "08045432997393661669"
     },
     "user_tz": 240
    },
    "id": "ACeqw6r0v1jm",
    "outputId": "19684c0a-fc5a-4cbe-b3e7-d8fe3f581479"
   },
   "outputs": [
    {
     "name": "stdout",
     "output_type": "stream",
     "text": [
      "working on experimnet  0  from  100\n",
      "working on experimnet  10  from  100\n",
      "working on experimnet  20  from  100\n",
      "working on experimnet  30  from  100\n",
      "working on experimnet  40  from  100\n",
      "working on experimnet  50  from  100\n",
      "working on experimnet  60  from  100\n",
      "working on experimnet  70  from  100\n",
      "working on experimnet  80  from  100\n",
      "working on experimnet  90  from  100\n",
      "Average AUC performance for the advanced LSTM model is: 0.6695080028388626 with 95% Confidence Interval of [ 0.6695080028388626 , 0.6695080028388626 ]\n",
      "The operation took  319.45  seconds\n"
     ]
    }
   ],
   "source": [
    "random_seed(0, True)\n",
    "\n",
    "# Set device for PyTorch (GPU if available)\n",
    "device = torch.device(\"cuda\" if torch.cuda.is_available() else \"cpu\")\n",
    "\n",
    "# Standardize features of X_train\n",
    "scaler = StandardScaler()\n",
    "X_train_scaled = scaler.fit_transform(X_train)\n",
    "X_train_scaled = torch.tensor(X_train_scaled, dtype=torch.float32).to(device)\n",
    "X_train_scaled = X_train_scaled.unsqueeze(1)\n",
    "\n",
    "# Convert y_train labels to a PyTorch tensor\n",
    "label_encoder = LabelEncoder()\n",
    "y_train_encoded = label_encoder.fit_transform(y_train)\n",
    "y_train_tensor = torch.tensor(y_train_encoded, dtype=torch.long).to(device)\n",
    "\n",
    "# Standardize features of X_val\n",
    "scaler = StandardScaler()\n",
    "X_val_scaled = scaler.fit_transform(X_val)\n",
    "X_val_scaled = torch.tensor(X_val_scaled, dtype=torch.float32).to(device)\n",
    "X_val_scaled = X_val_scaled.unsqueeze(1)\n",
    "\n",
    "# Convert y_val labels to a PyTorch tensor\n",
    "label_encoder = LabelEncoder()\n",
    "y_val_encoded = label_encoder.fit_transform(y_val)\n",
    "y_val_tensor = torch.tensor(y_val_encoded, dtype=torch.long).to(device)\n",
    "\n",
    "# Hyperparameters\n",
    "learning_rate = 0.001\n",
    "epochs = 50\n",
    "\n",
    "# Initialize the LSTM model\n",
    "input_dim = X_train_scaled.shape[2]\n",
    "hidden_dim = 10\n",
    "output_dim = 3\n",
    "model = ImprovedLSTM(input_dim=input_dim, hidden_dim=50, output_dim=3, num_layers=2, bidirectional=True, dropout_rate=0.5)\n",
    "model = model.to(device)\n",
    "\n",
    "# Loss and optimizer\n",
    "criterion = nn.CrossEntropyLoss()\n",
    "optimizer = optim.Adam(model.parameters(), lr=learning_rate)\n",
    "\n",
    "# Start time\n",
    "start_time = time.time()\n",
    "N = 100  # number of experiments\n",
    "experiments_performances = []\n",
    "for i in range(N):\n",
    "    if i%10==0:\n",
    "      print(\"working on experimnet \", i, ' from ', N)\n",
    "      # Training loop\n",
    "    for epoch in range(epochs):\n",
    "        model.train()\n",
    "        optimizer.zero_grad()\n",
    "        outputs = model(X_train_scaled)\n",
    "        loss = criterion(outputs, y_train_tensor)\n",
    "        loss.backward()\n",
    "        optimizer.step()\n",
    "\n",
    "    # Evaluate the model\n",
    "    model.eval()\n",
    "with torch.no_grad():\n",
    "    outputs = model(X_val_scaled)\n",
    "    predictions = torch.softmax(outputs, dim=1)\n",
    "    auc_score = roc_auc_score(y_val_tensor.cpu(), predictions.cpu(), multi_class='ovr')\n",
    "    experiments_performances.append(auc_score)\n",
    "\n",
    "mean_performance = np.mean(experiments_performances)\n",
    "std_performance = np.std(experiments_performances)\n",
    "CI_start = mean_performance - 1.96 * std_performance/np.sqrt(N)\n",
    "CI_end = mean_performance + 1.96 * std_performance/np.sqrt(N)\n",
    "print(\"Average AUC performance for the advanced LSTM model is:\", mean_performance, \"with 95% Confidence Interval of [\", CI_start, ',', CI_end, ']' )\n",
    "#time the ops\n",
    "end_time = time.time()\n",
    "elapsed_time = end_time - start_time\n",
    "print(\"The operation took \", round(elapsed_time, 2), \" seconds\")"
   ]
  },
  {
   "cell_type": "markdown",
   "metadata": {},
   "source": [
    "##changing epoch to 200"
   ]
  },
  {
   "cell_type": "code",
   "execution_count": 46,
   "metadata": {
    "colab": {
     "base_uri": "https://localhost:8080/"
    },
    "executionInfo": {
     "elapsed": 623288,
     "status": "ok",
     "timestamp": 1711732540251,
     "user": {
      "displayName": "anasua kundu",
      "userId": "08045432997393661669"
     },
     "user_tz": 240
    },
    "id": "ACeqw6r0v1jm",
    "outputId": "19684c0a-fc5a-4cbe-b3e7-d8fe3f581479"
   },
   "outputs": [
    {
     "name": "stdout",
     "output_type": "stream",
     "text": [
      "working on experimnet  0  from  100\n",
      "working on experimnet  10  from  100\n",
      "working on experimnet  20  from  100\n",
      "working on experimnet  30  from  100\n",
      "working on experimnet  40  from  100\n",
      "working on experimnet  50  from  100\n",
      "working on experimnet  60  from  100\n",
      "working on experimnet  70  from  100\n",
      "working on experimnet  80  from  100\n",
      "working on experimnet  90  from  100\n",
      "Average AUC performance for the advanced LSTM model is: 0.657310205719816 with 95% Confidence Interval of [ 0.657310205719816 , 0.657310205719816 ]\n",
      "The operation took  1295.96  seconds\n"
     ]
    }
   ],
   "source": [
    "random_seed(0, True)\n",
    "\n",
    "# Set device for PyTorch (GPU if available)\n",
    "device = torch.device(\"cuda\" if torch.cuda.is_available() else \"cpu\")\n",
    "\n",
    "# Standardize features of X_train\n",
    "scaler = StandardScaler()\n",
    "X_train_scaled = scaler.fit_transform(X_train)\n",
    "X_train_scaled = torch.tensor(X_train_scaled, dtype=torch.float32).to(device)\n",
    "X_train_scaled = X_train_scaled.unsqueeze(1)\n",
    "\n",
    "# Convert y_train labels to a PyTorch tensor\n",
    "label_encoder = LabelEncoder()\n",
    "y_train_encoded = label_encoder.fit_transform(y_train)\n",
    "y_train_tensor = torch.tensor(y_train_encoded, dtype=torch.long).to(device)\n",
    "\n",
    "# Standardize features of X_val\n",
    "scaler = StandardScaler()\n",
    "X_val_scaled = scaler.fit_transform(X_val)\n",
    "X_val_scaled = torch.tensor(X_val_scaled, dtype=torch.float32).to(device)\n",
    "X_val_scaled = X_val_scaled.unsqueeze(1)\n",
    "\n",
    "# Convert y_val labels to a PyTorch tensor\n",
    "label_encoder = LabelEncoder()\n",
    "y_val_encoded = label_encoder.fit_transform(y_val)\n",
    "y_val_tensor = torch.tensor(y_val_encoded, dtype=torch.long).to(device)\n",
    "\n",
    "# Hyperparameters\n",
    "learning_rate = 0.001\n",
    "epochs = 200\n",
    "\n",
    "# Initialize the LSTM model\n",
    "input_dim = X_train_scaled.shape[2]\n",
    "hidden_dim = 10\n",
    "output_dim = 3\n",
    "model = ImprovedLSTM(input_dim=input_dim, hidden_dim=50, output_dim=3, num_layers=2, bidirectional=True, dropout_rate=0.5)\n",
    "model = model.to(device)\n",
    "\n",
    "# Loss and optimizer\n",
    "criterion = nn.CrossEntropyLoss()\n",
    "optimizer = optim.Adam(model.parameters(), lr=learning_rate)\n",
    "\n",
    "# Start time\n",
    "start_time = time.time()\n",
    "N = 100  # number of experiments\n",
    "experiments_performances = []\n",
    "for i in range(N):\n",
    "    if i%10==0:\n",
    "      print(\"working on experimnet \", i, ' from ', N)\n",
    "      # Training loop\n",
    "    for epoch in range(epochs):\n",
    "        model.train()\n",
    "        optimizer.zero_grad()\n",
    "        outputs = model(X_train_scaled)\n",
    "        loss = criterion(outputs, y_train_tensor)\n",
    "        loss.backward()\n",
    "        optimizer.step()\n",
    "\n",
    "    # Evaluate the model\n",
    "    model.eval()\n",
    "with torch.no_grad():\n",
    "    outputs = model(X_val_scaled)\n",
    "    predictions = torch.softmax(outputs, dim=1)\n",
    "    auc_score = roc_auc_score(y_val_tensor.cpu(), predictions.cpu(), multi_class='ovr')\n",
    "    experiments_performances.append(auc_score)\n",
    "\n",
    "mean_performance = np.mean(experiments_performances)\n",
    "std_performance = np.std(experiments_performances)\n",
    "CI_start = mean_performance - 1.96 * std_performance/np.sqrt(N)\n",
    "CI_end = mean_performance + 1.96 * std_performance/np.sqrt(N)\n",
    "print(\"Average AUC performance for the advanced LSTM model with 200 epochs is:\", mean_performance, \"with 95% Confidence Interval of [\", CI_start, ',', CI_end, ']' )\n",
    "#time the ops\n",
    "end_time = time.time()\n",
    "elapsed_time = end_time - start_time\n",
    "print(\"The operation took \", round(elapsed_time, 2), \" seconds\")"
   ]
  },
  {
   "cell_type": "markdown",
   "metadata": {
    "id": "FGI5IqCak1Mw"
   },
   "source": [
    "The best performance achieved with epoch 25. So, selecting this model for plotting training and validation loss and performance."
   ]
  },
  {
   "cell_type": "code",
   "execution_count": 47,
   "metadata": {
    "colab": {
     "base_uri": "https://localhost:8080/",
     "height": 504
    },
    "executionInfo": {
     "elapsed": 16022,
     "status": "ok",
     "timestamp": 1711732609504,
     "user": {
      "displayName": "anasua kundu",
      "userId": "08045432997393661669"
     },
     "user_tz": 240
    },
    "id": "7mitmrtKmVGk",
    "outputId": "1a711fa2-6736-4c75-ebe4-f1d70d54540e"
   },
   "outputs": [
    {
     "name": "stdout",
     "output_type": "stream",
     "text": [
      "The operation took  2.14  seconds\n"
     ]
    },
    {
     "data": {
      "image/png": "[encoded data removed]",
      "text/plain": [
       "<Figure size 1000x500 with 1 Axes>"
      ]
     },
     "metadata": {},
     "output_type": "display_data"
    }
   ],
   "source": [
    "random_seed(0, True)\n",
    "\n",
    "# Set device for PyTorch (GPU if available)\n",
    "device = torch.device(\"cuda\" if torch.cuda.is_available() else \"cpu\")\n",
    "\n",
    "# Standardize features of X_train\n",
    "scaler = StandardScaler()\n",
    "X_train_scaled = scaler.fit_transform(X_train)\n",
    "X_train_scaled = torch.tensor(X_train_scaled, dtype=torch.float32).to(device)\n",
    "X_train_scaled = X_train_scaled.unsqueeze(1)\n",
    "\n",
    "# Convert y_train labels to a PyTorch tensor\n",
    "label_encoder = LabelEncoder()\n",
    "y_train_encoded = label_encoder.fit_transform(y_train)\n",
    "y_train_tensor = torch.tensor(y_train_encoded, dtype=torch.long).to(device)\n",
    "\n",
    "# Standardize features of X_val\n",
    "scaler = StandardScaler()\n",
    "X_val_scaled = scaler.fit_transform(X_val)\n",
    "X_val_scaled = torch.tensor(X_val_scaled, dtype=torch.float32).to(device)\n",
    "X_val_scaled = X_val_scaled.unsqueeze(1)\n",
    "\n",
    "# Convert y_val labels to a PyTorch tensor\n",
    "label_encoder = LabelEncoder()\n",
    "y_val_encoded = label_encoder.fit_transform(y_val)\n",
    "y_val_tensor = torch.tensor(y_val_encoded, dtype=torch.long).to(device)\n",
    "\n",
    "# Hyperparameters\n",
    "learning_rate = 0.001\n",
    "epochs = 25\n",
    "\n",
    "# Initialize the LSTM model\n",
    "input_dim = X_train_scaled.shape[2]\n",
    "model = ImprovedLSTM(input_dim=input_dim, hidden_dim=50, output_dim=3, num_layers=2, bidirectional=True, dropout_rate=0.5)\n",
    "model = model.to(device)\n",
    "\n",
    "# Loss and optimizer\n",
    "criterion = nn.CrossEntropyLoss()\n",
    "optimizer = optim.Adam(model.parameters(), lr=learning_rate)\n",
    "\n",
    "# Lists to store training and validation metrics\n",
    "train_performance_over_epochs = []\n",
    "train_loss_over_epochs = []\n",
    "val_performance_over_epochs = []\n",
    "val_loss_over_epochs = []\n",
    "\n",
    "# Start time\n",
    "start_time = time.time()\n",
    "for epoch in range(epochs):\n",
    "    model.train()\n",
    "    optimizer.zero_grad()\n",
    "    outputs = model(X_train_scaled)\n",
    "    loss = criterion(outputs, y_train_tensor)\n",
    "    loss.backward()\n",
    "    optimizer.step()\n",
    "    train_predictions = torch.softmax(outputs, dim=1)\n",
    "    train_auc_score = roc_auc_score(y_train_tensor.detach().cpu(), train_predictions.detach().cpu(), multi_class='ovr')\n",
    "    train_performance_over_epochs.append(train_auc_score)\n",
    "    train_loss_over_epochs.append(loss.item())\n",
    "\n",
    "    # Evaluate the model on validation set\n",
    "    model.eval()\n",
    "    with torch.no_grad():\n",
    "        val_outputs = model(X_val_scaled)\n",
    "        val_loss = criterion(val_outputs, y_val_tensor)\n",
    "        val_predictions = torch.softmax(val_outputs, dim=1)\n",
    "        val_auc_score = roc_auc_score(y_val_tensor.cpu(), val_predictions.cpu(), multi_class='ovr')\n",
    "        val_performance_over_epochs.append(val_auc_score)\n",
    "        val_loss_over_epochs.append(val_loss.item())\n",
    "\n",
    "#time the ops\n",
    "end_time = time.time()\n",
    "elapsed_time = end_time - start_time\n",
    "print(\"The operation took \", round(elapsed_time, 2), \" seconds\")\n",
    "\n",
    "#Plotting the metric monitoring figures\n",
    "epochs = range(1, len(train_performance_over_epochs) + 1)\n",
    "\n",
    "# Plotting\n",
    "plt.figure(figsize=(10, 5))\n",
    "plt.plot(epochs, train_performance_over_epochs, label='Training AUC')\n",
    "plt.plot(epochs, train_loss_over_epochs, label='Training Loss')\n",
    "plt.plot(epochs, val_performance_over_epochs, label='Validation AUC')\n",
    "plt.plot(epochs, val_loss_over_epochs, label='Validation Loss')\n",
    "\n",
    "# Adding labels and title\n",
    "plt.xlabel('Epoch')\n",
    "plt.ylabel('Value')\n",
    "plt.title('Training and Validation Performance and Loss Over Epochs')\n",
    "\n",
    "# Adding a legend\n",
    "plt.legend()\n",
    "\n",
    "# Show the plot\n",
    "plt.show()"
   ]
  },
  {
   "cell_type": "markdown",
   "metadata": {
    "id": "Rbz5OKbgtk3B"
   },
   "source": [
    "Performance was higher for validation set compared to training set. Compared to performance, loss was always higher for both training and validation set."
   ]
  },
  {
   "cell_type": "markdown",
   "metadata": {
    "id": "rSEDYIo8sSCG"
   },
   "source": [
    "### No. 4: Word2Vec model embedding and building LSTM models"
   ]
  },
  {
   "cell_type": "code",
   "execution_count": 52,
   "metadata": {
    "colab": {
     "base_uri": "https://localhost:8080/"
    },
    "executionInfo": {
     "elapsed": 25528,
     "status": "ok",
     "timestamp": 1711732650270,
     "user": {
      "displayName": "anasua kundu",
      "userId": "08045432997393661669"
     },
     "user_tz": 240
    },
    "id": "Ihj8tSpysc_R",
    "outputId": "3a967f4e-dd6b-4264-c819-ac43b7cbd11e"
   },
   "outputs": [
    {
     "name": "stdout",
     "output_type": "stream",
     "text": [
      "['w2v_OA_CR_100d.bin', 'w2v_OA_CR_100d.bin.trainables.syn1neg.npy', 'w2v_OA_CR_100d.bin.wv.vectors.npy']\n"
     ]
    }
   ],
   "source": [
    "os.chdir(r\"C:\\Users\\anasu\\Desktop\\Final assignment.MSC1118H\\models\")\n",
    "print(os.listdir())\n",
    "from gensim.models import FastText, Word2Vec, KeyedVectors # KeyedVectors are used to load the GloVe models\n",
    "# Load the model\n",
    "model = Word2Vec.load('./w2v_OA_CR_100d.bin')\n",
    "\n",
    "\n"
   ]
  },
  {
   "cell_type": "markdown",
   "metadata": {
    "id": "28Psk7d67bER"
   },
   "source": [
    "##Word embeddings"
   ]
  },
  {
   "cell_type": "code",
   "execution_count": 53,
   "metadata": {
    "executionInfo": {
     "elapsed": 1361465,
     "status": "ok",
     "timestamp": 1711734030671,
     "user": {
      "displayName": "anasua kundu",
      "userId": "08045432997393661669"
     },
     "user_tz": 240
    },
    "id": "SsWI5ua6yiaB"
   },
   "outputs": [],
   "source": [
    "# Define the document vector function\n",
    "def document_vector(model, doc):\n",
    "    # remove out-of-vocabulary words\n",
    "    doc = [word for word in doc.split() if word in model.wv.index_to_key]\n",
    "\n",
    "    if not doc:\n",
    "        return np.zeros(model.vector_size)\n",
    "\n",
    "    return np.mean(model.wv[doc], axis=0)\n",
    "\n",
    "# Vectorize all documents\n",
    "X_train = np.array([document_vector(model, doc) for doc in train_sentences])\n",
    "X_val = np.array([document_vector(model, doc) for doc in val_sentences])\n",
    "X_test = np.array([document_vector(model, doc) for doc in test_sentences])"
   ]
  },
  {
   "cell_type": "code",
   "execution_count": 54,
   "metadata": {
    "colab": {
     "base_uri": "https://localhost:8080/"
    },
    "executionInfo": {
     "elapsed": 159,
     "status": "ok",
     "timestamp": 1711734038350,
     "user": {
      "displayName": "anasua kundu",
      "userId": "08045432997393661669"
     },
     "user_tz": 240
    },
    "id": "M9wCVrMO5Cm7",
    "outputId": "534175a3-d673-4840-e653-319bd77d21ee"
   },
   "outputs": [
    {
     "name": "stdout",
     "output_type": "stream",
     "text": [
      "Embeddings for the first abstract: [-0.25447136 -0.13696894  0.01676937  0.27200717 -0.12401067 -0.00893671\n",
      " -0.0220718  -0.0644515   0.06962107  0.19535114  0.15767935  0.53552383\n",
      " -0.13075478  0.03658946  0.13638592  0.44914308 -0.21448973 -0.06639278\n",
      "  0.03814138  0.344406    0.29609734 -0.04808445 -0.00764624 -0.10726209\n",
      "  0.07387847  0.2335545  -0.07052982 -0.03920687 -0.38725042 -0.01712591\n",
      " -0.04764092 -0.2978411  -0.05114055  0.02783379  0.13980539 -0.36594015\n",
      " -0.11237741 -0.01922589  0.3793141   0.43989897 -0.16854653 -0.15094052\n",
      "  0.04984633 -0.14665815  0.12886602 -0.4921947  -0.24468568 -0.04814916\n",
      " -0.25442317 -0.20627925  0.07141386 -0.11474549 -0.16436225 -0.33063656\n",
      "  0.14515845  0.09747285  0.00844139 -0.0040872   0.2168516   0.19434966\n",
      "  0.3343766   0.06914113 -0.14242369  0.06649133 -0.05390588 -0.16277876\n",
      "  0.1982376  -0.1620824  -0.10289537  0.03512217 -0.2352533   0.06091155\n",
      " -0.05038583 -0.15804447 -0.03472567  0.0712825   0.21276954  0.08612173\n",
      "  0.19287024  0.11527489  0.10504243 -0.07897235 -0.31303126  0.08612597\n",
      " -0.11422424 -0.04262897 -0.13547683 -0.10169613 -0.1370977  -0.09879172\n",
      "  0.07988102 -0.17265226 -0.09146942  0.00546015  0.03959758  0.06599581\n",
      " -0.02518216  0.07359684  0.01122891 -0.11505434]\n"
     ]
    }
   ],
   "source": [
    "print(\"Embeddings for the first abstract:\", X_train[0])"
   ]
  },
  {
   "cell_type": "markdown",
   "metadata": {
    "id": "blfsZijF7gEz"
   },
   "source": [
    "##LSTM model with word embedding"
   ]
  },
  {
   "cell_type": "code",
   "execution_count": 55,
   "metadata": {
    "colab": {
     "base_uri": "https://localhost:8080/"
    },
    "executionInfo": {
     "elapsed": 958141,
     "status": "ok",
     "timestamp": 1711735011165,
     "user": {
      "displayName": "anasua kundu",
      "userId": "08045432997393661669"
     },
     "user_tz": 240
    },
    "id": "P6ccN7r17mgB",
    "outputId": "aba44b7a-34ac-4cb8-c15c-1400d6883393"
   },
   "outputs": [
    {
     "name": "stdout",
     "output_type": "stream",
     "text": [
      "working on experimnet  0  from  100\n",
      "working on experimnet  10  from  100\n",
      "working on experimnet  20  from  100\n",
      "working on experimnet  30  from  100\n",
      "working on experimnet  40  from  100\n",
      "working on experimnet  50  from  100\n",
      "working on experimnet  60  from  100\n",
      "working on experimnet  70  from  100\n",
      "working on experimnet  80  from  100\n",
      "working on experimnet  90  from  100\n",
      "Average AUC performance for the advanced LSTM model with Word2Vec word embedding is: 0.954147573868763 with 95% Confidence Interval of [ 0.954147573868763 , 0.954147573868763 ]\n",
      "The operation took  241.9  seconds\n"
     ]
    }
   ],
   "source": [
    "#Combining X_train and X_val\n",
    "X_combined = np.concatenate((X_train, X_val), axis=0)\n",
    "y_combined = np.concatenate((y_train, y_val), axis=0)\n",
    "\n",
    "random_seed(0, True)\n",
    "\n",
    "# Set device for PyTorch (GPU if available)\n",
    "device = torch.device(\"cuda\" if torch.cuda.is_available() else \"cpu\")\n",
    "\n",
    "# Standardize features of X_train\n",
    "scaler = StandardScaler()\n",
    "X_combined_scaled = scaler.fit_transform(X_combined)\n",
    "X_combined_scaled = torch.tensor(X_combined_scaled, dtype=torch.float32).to(device)\n",
    "X_combined_scaled = X_combined_scaled.unsqueeze(1)\n",
    "\n",
    "# Convert y_train labels to a PyTorch tensor\n",
    "label_encoder = LabelEncoder()\n",
    "y_combined_encoded = label_encoder.fit_transform(y_combined)\n",
    "y_combined_tensor = torch.tensor(y_combined_encoded, dtype=torch.long).to(device)\n",
    "\n",
    "# Standardize features of X_val\n",
    "scaler = StandardScaler()\n",
    "X_test_scaled = scaler.fit_transform(X_test)\n",
    "X_test_scaled = torch.tensor(X_test_scaled, dtype=torch.float32).to(device)\n",
    "X_test_scaled = X_test_scaled.unsqueeze(1)\n",
    "\n",
    "# Convert y_val labels to a PyTorch tensor\n",
    "label_encoder = LabelEncoder()\n",
    "y_test_encoded = label_encoder.fit_transform(y_test)\n",
    "y_test_tensor = torch.tensor(y_test_encoded, dtype=torch.long).to(device)\n",
    "\n",
    "# Hyperparameters\n",
    "learning_rate = 0.001\n",
    "epochs = 25\n",
    "\n",
    "# Initialize the LSTM model\n",
    "input_dim = X_combined_scaled.shape[2]\n",
    "model = ImprovedLSTM(input_dim=input_dim, hidden_dim=50, output_dim=3, num_layers=2, bidirectional=True, dropout_rate=0.5)\n",
    "model = model.to(device)\n",
    "\n",
    "# Loss and optimizer\n",
    "criterion = nn.CrossEntropyLoss()\n",
    "optimizer = optim.Adam(model.parameters(), lr=learning_rate)\n",
    "\n",
    "# Start time\n",
    "start_time = time.time()\n",
    "N = 100  # number of experiments\n",
    "experiments_performances = []\n",
    "for i in range(N):\n",
    "    if i%10==0:\n",
    "      print(\"working on experimnet \", i, ' from ', N)\n",
    "      # Training loop\n",
    "    for epoch in range(epochs):\n",
    "        model.train()\n",
    "        optimizer.zero_grad()\n",
    "        outputs = model(X_combined_scaled)\n",
    "        loss = criterion(outputs, y_combined_tensor)\n",
    "        loss.backward()\n",
    "        optimizer.step()\n",
    "\n",
    "    # Evaluate the model\n",
    "    model.eval()\n",
    "with torch.no_grad():\n",
    "    outputs = model(X_test_scaled)\n",
    "    predictions = torch.softmax(outputs, dim=1)\n",
    "    auc_score = roc_auc_score(y_test_tensor.cpu(), predictions.cpu(), multi_class='ovr')\n",
    "    experiments_performances.append(auc_score)\n",
    "\n",
    "mean_performance = np.mean(experiments_performances)\n",
    "std_performance = np.std(experiments_performances)\n",
    "CI_start = mean_performance - 1.96 * std_performance/np.sqrt(N)\n",
    "CI_end = mean_performance + 1.96 * std_performance/np.sqrt(N)\n",
    "print(\"Average AUC performance for the advanced LSTM model with Word2Vec word embedding is:\", mean_performance, \"with 95% Confidence Interval of [\", CI_start, ',', CI_end, ']' )\n",
    "#time the ops\n",
    "end_time = time.time()\n",
    "elapsed_time = end_time - start_time\n",
    "print(\"The operation took \", round(elapsed_time, 2), \" seconds\")\n",
    "\n"
   ]
  },
  {
   "cell_type": "markdown",
   "metadata": {
    "id": "jqXVzUiWYWU0"
   },
   "source": [
    "##Sentence embedding"
   ]
  },
  {
   "cell_type": "code",
   "execution_count": 56,
   "metadata": {
    "colab": {
     "base_uri": "https://localhost:8080/"
    },
    "executionInfo": {
     "elapsed": 1387273,
     "status": "ok",
     "timestamp": 1711737224494,
     "user": {
      "displayName": "anasua kundu",
      "userId": "08045432997393661669"
     },
     "user_tz": 240
    },
    "id": "z33A38KUYZGS",
    "outputId": "3fa93746-0d78-4026-fc8b-2ff1b5696617"
   },
   "outputs": [],
   "source": [
    "from gensim.models import FastText, Word2Vec, KeyedVectors \n",
    "# Load the model\n",
    "model = Word2Vec.load('./w2v_OA_CR_100d.bin')\n",
    "\n",
    "def document_vector(model, doc):\n",
    "    tokens = doc.split()\n",
    "\n",
    "    tokens = [token for token in tokens if token in model.wv.index_to_key]\n",
    "\n",
    "    # If no in-vocabulary tokens found, return zeros\n",
    "    if not tokens:\n",
    "        return np.zeros(model.vector_size)\n",
    "\n",
    "    # Get word embeddings for each token\n",
    "    word_embeddings = [model.wv[token] for token in tokens]\n",
    "\n",
    "    if not word_embeddings:\n",
    "        return np.zeros(model.vector_size)\n",
    "\n",
    "    # Compute sentence embedding\n",
    "    doc_embedding = np.mean(word_embeddings, axis=0)\n",
    "\n",
    "    return doc_embedding\n",
    "\n",
    "# Vectorize all documents for train, validation, and test sets\n",
    "X_train_s = np.array([document_vector(model, doc) for doc in train_sentences])\n",
    "X_val_s = np.array([document_vector(model, doc) for doc in val_sentences])\n",
    "X_test_s = np.array([document_vector(model, doc) for doc in test_sentences])"
   ]
  },
  {
   "cell_type": "markdown",
   "metadata": {
    "id": "AlczvynTbs7O"
   },
   "source": [
    "##LSTM model with sentence embedding"
   ]
  },
  {
   "cell_type": "code",
   "execution_count": 58,
   "metadata": {
    "colab": {
     "base_uri": "https://localhost:8080/"
    },
    "executionInfo": {
     "elapsed": 1131090,
     "status": "ok",
     "timestamp": 1711738439674,
     "user": {
      "displayName": "anasua kundu",
      "userId": "08045432997393661669"
     },
     "user_tz": 240
    },
    "id": "RpPqmNgvcJB3",
    "outputId": "f83046ba-9932-4b60-e4ba-4c3ca11f834a"
   },
   "outputs": [
    {
     "name": "stdout",
     "output_type": "stream",
     "text": [
      "working on experimnet  0  from  100\n",
      "working on experimnet  10  from  100\n",
      "working on experimnet  20  from  100\n",
      "working on experimnet  30  from  100\n",
      "working on experimnet  40  from  100\n",
      "working on experimnet  50  from  100\n",
      "working on experimnet  60  from  100\n",
      "working on experimnet  70  from  100\n",
      "working on experimnet  80  from  100\n",
      "working on experimnet  90  from  100\n",
      "Average AUC performance for the advanced LSTM model with Word2Vec sentence embedding is: 0.954147573868763 with 95% Confidence Interval of [ 0.954147573868763 , 0.954147573868763 ]\n",
      "The operation took  250.34  seconds\n"
     ]
    }
   ],
   "source": [
    "#Combining X_train and X_val\n",
    "X_combined_s = np.concatenate((X_train_s, X_val_s), axis=0)\n",
    "y_combined = np.concatenate((y_train, y_val), axis=0)\n",
    "\n",
    "random_seed(0, True)\n",
    "\n",
    "# Set device for PyTorch (GPU if available)\n",
    "device = torch.device(\"cuda\" if torch.cuda.is_available() else \"cpu\")\n",
    "\n",
    "# Standardize features of X_train\n",
    "scaler = StandardScaler()\n",
    "X_combined_s_scaled = scaler.fit_transform(X_combined_s)\n",
    "X_combined_s_scaled = torch.tensor(X_combined_s_scaled, dtype=torch.float32).to(device)\n",
    "X_combined_s_scaled = X_combined_s_scaled.unsqueeze(1)\n",
    "\n",
    "# Convert y_train labels to a PyTorch tensor\n",
    "label_encoder = LabelEncoder()\n",
    "y_combined_encoded = label_encoder.fit_transform(y_combined)\n",
    "y_combined_tensor = torch.tensor(y_combined_encoded, dtype=torch.long).to(device)\n",
    "\n",
    "# Standardize features of X_val\n",
    "scaler = StandardScaler()\n",
    "X_test_s_scaled = scaler.fit_transform(X_test_s)\n",
    "X_test_s_scaled = torch.tensor(X_test_s_scaled, dtype=torch.float32).to(device)\n",
    "X_test_s_scaled = X_test_s_scaled.unsqueeze(1)\n",
    "\n",
    "# Convert y_val labels to a PyTorch tensor\n",
    "label_encoder = LabelEncoder()\n",
    "y_test_encoded = label_encoder.fit_transform(y_test)\n",
    "y_test_tensor = torch.tensor(y_test_encoded, dtype=torch.long).to(device)\n",
    "\n",
    "# Hyperparameters\n",
    "learning_rate = 0.001\n",
    "epochs = 25\n",
    "\n",
    "# Initialize the LSTM model\n",
    "input_dim = X_combined_scaled.shape[2]\n",
    "model = ImprovedLSTM(input_dim=input_dim, hidden_dim=50, output_dim=3, num_layers=2, bidirectional=True, dropout_rate=0.5)\n",
    "model = model.to(device)\n",
    "\n",
    "# Loss and optimizer\n",
    "criterion = nn.CrossEntropyLoss()\n",
    "optimizer = optim.Adam(model.parameters(), lr=learning_rate)\n",
    "\n",
    "# Start time\n",
    "start_time = time.time()\n",
    "N = 100  # number of experiments\n",
    "experiments_performances = []\n",
    "for i in range(N):\n",
    "    if i%10==0:\n",
    "      print(\"working on experimnet \", i, ' from ', N)\n",
    "      # Training loop\n",
    "    for epoch in range(epochs):\n",
    "        model.train()\n",
    "        optimizer.zero_grad()\n",
    "        outputs = model(X_combined_s_scaled)\n",
    "        loss = criterion(outputs, y_combined_tensor)\n",
    "        loss.backward()\n",
    "        optimizer.step()\n",
    "\n",
    "    # Evaluate the model\n",
    "    model.eval()\n",
    "with torch.no_grad():\n",
    "    outputs = model(X_test_s_scaled)\n",
    "    predictions = torch.softmax(outputs, dim=1)\n",
    "    auc_score = roc_auc_score(y_test_tensor.cpu(), predictions.cpu(), multi_class='ovr')\n",
    "    experiments_performances.append(auc_score)\n",
    "\n",
    "mean_performance = np.mean(experiments_performances)\n",
    "std_performance = np.std(experiments_performances)\n",
    "CI_start = mean_performance - 1.96 * std_performance/np.sqrt(N)\n",
    "CI_end = mean_performance + 1.96 * std_performance/np.sqrt(N)\n",
    "print(\"Average AUC performance for the advanced LSTM model with Word2Vec sentence embedding is:\", mean_performance, \"with 95% Confidence Interval of [\", CI_start, ',', CI_end, ']' )\n",
    "#time the ops\n",
    "end_time = time.time()\n",
    "elapsed_time = end_time - start_time\n",
    "print(\"The operation took \", round(elapsed_time, 2), \" seconds\")\n",
    "\n"
   ]
  },
  {
   "cell_type": "markdown",
   "metadata": {
    "id": "wqjWmPmdg5sV"
   },
   "source": [
    "No difference between performances of the LSTM models with Word2Vec word embeddings or senetence embeddings."
   ]
  },
  {
   "cell_type": "markdown",
   "metadata": {
    "id": "JQLpi_Mrg9Le"
   },
   "source": [
    "## No. 5: BERT sentence embeddings and LSTM model"
   ]
  },
  {
   "cell_type": "code",
   "execution_count": 60,
   "metadata": {
    "colab": {
     "base_uri": "https://localhost:8080/"
    },
    "executionInfo": {
     "elapsed": 149,
     "status": "ok",
     "timestamp": 1711738843730,
     "user": {
      "displayName": "anasua kundu",
      "userId": "08045432997393661669"
     },
     "user_tz": 240
    },
    "id": "_S_N5BzuiBZT",
    "outputId": "5e5e34f2-86bd-4fd8-fde8-5c2dbbdfc43c"
   },
   "outputs": [],
   "source": [
    "import torch\n",
    "\n",
    "def mean_pooling(model_output, attention_mask):\n",
    "    token_embeddings = model_output[0]  # First element of model_output contains all token embeddings\n",
    "    input_mask_expanded = attention_mask.unsqueeze(-1).expand(token_embeddings.size()).float()\n",
    "    sum_embeddings = torch.sum(token_embeddings * input_mask_expanded, 1)\n",
    "    sum_mask = torch.clamp(input_mask_expanded.sum(1), min=1e-9) #clamp all the elements input_mask_expanded into the range [min, max]. Since max is not provided, only min is clamped\n",
    "    return sum_embeddings / sum_mask"
   ]
  },
  {
   "cell_type": "code",
   "execution_count": 65,
   "metadata": {
    "colab": {
     "base_uri": "https://localhost:8080/"
    },
    "executionInfo": {
     "elapsed": 927,
     "status": "ok",
     "timestamp": 1711738859528,
     "user": {
      "displayName": "anasua kundu",
      "userId": "08045432997393661669"
     },
     "user_tz": 240
    },
    "id": "VfozcJMehOx1",
    "outputId": "f24f5184-ec88-4645-c96c-c267164a4892"
   },
   "outputs": [
    {
     "name": "stdout",
     "output_type": "stream",
     "text": [
      "['.ipynb_checkpoints', 'BioBert-PubMed200kRCT', 'Final_assignment_anasua_kundu.ipynb', 'models', 'models.BERT', 'results', 'test.txt', 'train.txt', 'val.txt']\n"
     ]
    }
   ],
   "source": [
    "os.chdir(r\"C:\\Users\\anasu\\Desktop\\Final assignment.MSC1118H\")\n",
    "print(os.listdir())\n",
    "from transformers import AutoTokenizer, AutoModel\n",
    "\n",
    "# Define the device\n",
    "device = torch.device(\"cuda\" if torch.cuda.is_available() else \"cpu\")\n",
    "\n",
    "def report_to_embeddings(text):\n",
    "    tokenizer = AutoTokenizer.from_pretrained(\"./BioBert-PubMed200kRCT\")\n",
    "    model = AutoModel.from_pretrained(\"./BioBert-PubMed200kRCT\").to(device)\n",
    "\n",
    "    # Tokenize sentences\n",
    "    encoded_input = tokenizer(text, padding=True, truncation=True, max_length=128, return_tensors='pt')\n",
    "    encoded_input = encoded_input.to(device)\n",
    "\n",
    "    # Compute token embeddings\n",
    "    with torch.no_grad():\n",
    "        model_output = model(**encoded_input)\n",
    "\n",
    "    # Perform pooling. In this case, mean pooling\n",
    "    sentence_embeddings = mean_pooling(model_output, encoded_input['attention_mask'])\n",
    "    passage_embeddings = torch.mean(sentence_embeddings, axis=0)\n",
    "\n",
    "    # Move embeddings back to CPU for further processing or output\n",
    "    return passage_embeddings.cpu()"
   ]
  },
  {
   "cell_type": "code",
   "execution_count": 66,
   "metadata": {
    "colab": {
     "base_uri": "https://localhost:8080/"
    },
    "executionInfo": {
     "elapsed": 2764479,
     "status": "ok",
     "timestamp": 1711751406235,
     "user": {
      "displayName": "anasua kundu",
      "userId": "08045432997393661669"
     },
     "user_tz": 240
    },
    "id": "1huFdZ5Ci5DE",
    "outputId": "62877f28-d14a-4146-b805-cd8f79d61d0c"
   },
   "outputs": [
    {
     "name": "stdout",
     "output_type": "stream",
     "text": [
      "Working on report #0 from 6000.\n",
      "Working on report #50 from 6000.\n",
      "Working on report #100 from 6000.\n",
      "Working on report #150 from 6000.\n",
      "Working on report #200 from 6000.\n",
      "Working on report #250 from 6000.\n",
      "Working on report #300 from 6000.\n",
      "Working on report #350 from 6000.\n",
      "Working on report #400 from 6000.\n",
      "Working on report #450 from 6000.\n",
      "Working on report #500 from 6000.\n",
      "Working on report #550 from 6000.\n",
      "Working on report #600 from 6000.\n",
      "Working on report #650 from 6000.\n",
      "Working on report #700 from 6000.\n",
      "Working on report #750 from 6000.\n",
      "Working on report #800 from 6000.\n",
      "Working on report #850 from 6000.\n",
      "Working on report #900 from 6000.\n",
      "Working on report #950 from 6000.\n",
      "Working on report #1000 from 6000.\n",
      "Working on report #1050 from 6000.\n",
      "Working on report #1100 from 6000.\n",
      "Working on report #1150 from 6000.\n",
      "Working on report #1200 from 6000.\n",
      "Working on report #1250 from 6000.\n",
      "Working on report #1300 from 6000.\n",
      "Working on report #1350 from 6000.\n",
      "Working on report #1400 from 6000.\n",
      "Working on report #1450 from 6000.\n",
      "Working on report #1500 from 6000.\n",
      "Working on report #1550 from 6000.\n",
      "Working on report #1600 from 6000.\n",
      "Working on report #1650 from 6000.\n",
      "Working on report #1700 from 6000.\n",
      "Working on report #1750 from 6000.\n",
      "Working on report #1800 from 6000.\n",
      "Working on report #1850 from 6000.\n",
      "Working on report #1900 from 6000.\n",
      "Working on report #1950 from 6000.\n",
      "Working on report #2000 from 6000.\n",
      "Working on report #2050 from 6000.\n",
      "Working on report #2100 from 6000.\n",
      "Working on report #2150 from 6000.\n",
      "Working on report #2200 from 6000.\n",
      "Working on report #2250 from 6000.\n",
      "Working on report #2300 from 6000.\n",
      "Working on report #2350 from 6000.\n",
      "Working on report #2400 from 6000.\n",
      "Working on report #2450 from 6000.\n",
      "Working on report #2500 from 6000.\n",
      "Working on report #2550 from 6000.\n",
      "Working on report #2600 from 6000.\n",
      "Working on report #2650 from 6000.\n",
      "Working on report #2700 from 6000.\n",
      "Working on report #2750 from 6000.\n",
      "Working on report #2800 from 6000.\n",
      "Working on report #2850 from 6000.\n",
      "Working on report #2900 from 6000.\n",
      "Working on report #2950 from 6000.\n",
      "Working on report #3000 from 6000.\n",
      "Working on report #3050 from 6000.\n",
      "Working on report #3100 from 6000.\n",
      "Working on report #3150 from 6000.\n",
      "Working on report #3200 from 6000.\n",
      "Working on report #3250 from 6000.\n",
      "Working on report #3300 from 6000.\n",
      "Working on report #3350 from 6000.\n",
      "Working on report #3400 from 6000.\n",
      "Working on report #3450 from 6000.\n",
      "Working on report #3500 from 6000.\n",
      "Working on report #3550 from 6000.\n",
      "Working on report #3600 from 6000.\n",
      "Working on report #3650 from 6000.\n",
      "Working on report #3700 from 6000.\n",
      "Working on report #3750 from 6000.\n",
      "Working on report #3800 from 6000.\n",
      "Working on report #3850 from 6000.\n",
      "Working on report #3900 from 6000.\n",
      "Working on report #3950 from 6000.\n",
      "Working on report #4000 from 6000.\n",
      "Working on report #4050 from 6000.\n",
      "Working on report #4100 from 6000.\n",
      "Working on report #4150 from 6000.\n",
      "Working on report #4200 from 6000.\n",
      "Working on report #4250 from 6000.\n",
      "Working on report #4300 from 6000.\n",
      "Working on report #4350 from 6000.\n",
      "Working on report #4400 from 6000.\n",
      "Working on report #4450 from 6000.\n",
      "Working on report #4500 from 6000.\n",
      "Working on report #4550 from 6000.\n",
      "Working on report #4600 from 6000.\n",
      "Working on report #4650 from 6000.\n",
      "Working on report #4700 from 6000.\n",
      "Working on report #4750 from 6000.\n",
      "Working on report #4800 from 6000.\n",
      "Working on report #4850 from 6000.\n",
      "Working on report #4900 from 6000.\n",
      "Working on report #4950 from 6000.\n",
      "Working on report #5000 from 6000.\n",
      "Working on report #5050 from 6000.\n",
      "Working on report #5100 from 6000.\n",
      "Working on report #5150 from 6000.\n",
      "Working on report #5200 from 6000.\n",
      "Working on report #5250 from 6000.\n",
      "Working on report #5300 from 6000.\n",
      "Working on report #5350 from 6000.\n",
      "Working on report #5400 from 6000.\n",
      "Working on report #5450 from 6000.\n",
      "Working on report #5500 from 6000.\n",
      "Working on report #5550 from 6000.\n",
      "Working on report #5600 from 6000.\n",
      "Working on report #5650 from 6000.\n",
      "Working on report #5700 from 6000.\n",
      "Working on report #5750 from 6000.\n",
      "Working on report #5800 from 6000.\n",
      "Working on report #5850 from 6000.\n",
      "Working on report #5900 from 6000.\n",
      "Working on report #5950 from 6000.\n",
      "Working on report #0 from 2000.\n",
      "Working on report #50 from 2000.\n",
      "Working on report #100 from 2000.\n",
      "Working on report #150 from 2000.\n",
      "Working on report #200 from 2000.\n",
      "Working on report #250 from 2000.\n",
      "Working on report #300 from 2000.\n",
      "Working on report #350 from 2000.\n",
      "Working on report #400 from 2000.\n",
      "Working on report #450 from 2000.\n",
      "Working on report #500 from 2000.\n",
      "Working on report #550 from 2000.\n",
      "Working on report #600 from 2000.\n",
      "Working on report #650 from 2000.\n",
      "Working on report #700 from 2000.\n",
      "Working on report #750 from 2000.\n",
      "Working on report #800 from 2000.\n",
      "Working on report #850 from 2000.\n",
      "Working on report #900 from 2000.\n",
      "Working on report #950 from 2000.\n",
      "Working on report #1000 from 2000.\n",
      "Working on report #1050 from 2000.\n",
      "Working on report #1100 from 2000.\n",
      "Working on report #1150 from 2000.\n",
      "Working on report #1200 from 2000.\n",
      "Working on report #1250 from 2000.\n",
      "Working on report #1300 from 2000.\n",
      "Working on report #1350 from 2000.\n",
      "Working on report #1400 from 2000.\n",
      "Working on report #1450 from 2000.\n",
      "Working on report #1500 from 2000.\n",
      "Working on report #1550 from 2000.\n",
      "Working on report #1600 from 2000.\n",
      "Working on report #1650 from 2000.\n",
      "Working on report #1700 from 2000.\n",
      "Working on report #1750 from 2000.\n",
      "Working on report #1800 from 2000.\n",
      "Working on report #1850 from 2000.\n",
      "Working on report #1900 from 2000.\n",
      "Working on report #1950 from 2000.\n",
      "Working on report #0 from 2000.\n",
      "Working on report #50 from 2000.\n",
      "Working on report #100 from 2000.\n",
      "Working on report #150 from 2000.\n",
      "Working on report #200 from 2000.\n",
      "Working on report #250 from 2000.\n",
      "Working on report #300 from 2000.\n",
      "Working on report #350 from 2000.\n",
      "Working on report #400 from 2000.\n",
      "Working on report #450 from 2000.\n",
      "Working on report #500 from 2000.\n",
      "Working on report #550 from 2000.\n",
      "Working on report #600 from 2000.\n",
      "Working on report #650 from 2000.\n",
      "Working on report #700 from 2000.\n",
      "Working on report #750 from 2000.\n",
      "Working on report #800 from 2000.\n",
      "Working on report #850 from 2000.\n",
      "Working on report #900 from 2000.\n",
      "Working on report #950 from 2000.\n",
      "Working on report #1000 from 2000.\n",
      "Working on report #1050 from 2000.\n",
      "Working on report #1100 from 2000.\n",
      "Working on report #1150 from 2000.\n",
      "Working on report #1200 from 2000.\n",
      "Working on report #1250 from 2000.\n",
      "Working on report #1300 from 2000.\n",
      "Working on report #1350 from 2000.\n",
      "Working on report #1400 from 2000.\n",
      "Working on report #1450 from 2000.\n",
      "Working on report #1500 from 2000.\n",
      "Working on report #1550 from 2000.\n",
      "Working on report #1600 from 2000.\n",
      "Working on report #1650 from 2000.\n",
      "Working on report #1700 from 2000.\n",
      "Working on report #1750 from 2000.\n",
      "Working on report #1800 from 2000.\n",
      "Working on report #1850 from 2000.\n",
      "Working on report #1900 from 2000.\n",
      "Working on report #1950 from 2000.\n",
      "The operation took  4284.98  seconds\n"
     ]
    }
   ],
   "source": [
    "# Vectorizing the reports using BioBERT\n",
    "import time\n",
    "start_time = time.time()\n",
    "\n",
    "# Vectorize all documents\n",
    "#for train_sentences\n",
    "embeddings_train = []\n",
    "for i in range(len(train_sentences)):\n",
    "    if i % 50 == 0:\n",
    "        print(f\"Working on report #{i} from {len(train_sentences)}.\")\n",
    "    embeddings_train.append(report_to_embeddings(train_sentences[i]).numpy().ravel())\n",
    "X_train_BERT = np.array(embeddings_train)\n",
    "\n",
    "#for val_sentences\n",
    "embeddings_val = []\n",
    "for i in range(len(val_sentences)):\n",
    "    if i % 50 == 0:\n",
    "        print(f\"Working on report #{i} from {len(val_sentences)}.\")\n",
    "    embeddings_val.append(report_to_embeddings(val_sentences[i]).numpy().ravel())\n",
    "X_val_BERT = np.array(embeddings_val)\n",
    "\n",
    "#for test_sentences\n",
    "embeddings_test = []\n",
    "for i in range(len(test_sentences)):\n",
    "    if i % 50 == 0:\n",
    "        print(f\"Working on report #{i} from {len(test_sentences)}.\")\n",
    "    embeddings_test.append(report_to_embeddings(test_sentences[i]).numpy().ravel())\n",
    "X_test_BERT = np.array(embeddings_test)\n",
    "\n",
    "#time the ops\n",
    "end_time = time.time()\n",
    "elapsed_time = end_time - start_time\n",
    "print(\"The operation took \", round(elapsed_time, 2), \" seconds\")"
   ]
  },
  {
   "cell_type": "code",
   "execution_count": 67,
   "metadata": {
    "colab": {
     "base_uri": "https://localhost:8080/",
     "height": 211
    },
    "executionInfo": {
     "elapsed": 312,
     "status": "error",
     "timestamp": 1711752365636,
     "user": {
      "displayName": "anasua kundu",
      "userId": "08045432997393661669"
     },
     "user_tz": 240
    },
    "id": "sdoGfSVZY06U",
    "outputId": "6a13fad6-e15b-493a-d69f-ff28df417d23"
   },
   "outputs": [],
   "source": [
    "import pickle\n",
    "\n",
    "def save_object(ob, filename):\n",
    "  # opening a file in write, binary form\n",
    "  file = open(filename, 'wb')\n",
    "\n",
    "  pickle.dump(ob, file)\n",
    "\n",
    "  # close the file\n",
    "  file.close()\n",
    "\n",
    "if not os.path.exists(\"./results\"):\n",
    "  os.mkdir(\"./results\")\n",
    "\n",
    "save_object(X_train_BERT, \"./results/X_train_BioBERT.p\")\n",
    "save_object(X_val_BERT, \"./results/X_val_BioBERT.p\")\n",
    "save_object(X_test_BERT, \"./results/X_val_BioBERT.p\")"
   ]
  },
  {
   "cell_type": "code",
   "execution_count": 68,
   "metadata": {
    "colab": {
     "base_uri": "https://localhost:8080/",
     "height": 176
    },
    "executionInfo": {
     "elapsed": 667,
     "status": "error",
     "timestamp": 1711751791779,
     "user": {
      "displayName": "anasua kundu",
      "userId": "08045432997393661669"
     },
     "user_tz": 240
    },
    "id": "-j0xO5AHkLUD",
    "outputId": "4bf04dcb-8b66-4532-f813-676eccc07bb4"
   },
   "outputs": [
    {
     "name": "stdout",
     "output_type": "stream",
     "text": [
      "X_train_BERT.shape: (6000, 100)\n",
      "X-val_BERT.shape: (2000, 100)\n",
      "X-test_BERT.shape: (2000, 100)\n"
     ]
    }
   ],
   "source": [
    "print(\"X_train_BERT.shape:\", X_train.shape)\n",
    "print(\"X-val_BERT.shape:\", X_val.shape)\n",
    "print(\"X-test_BERT.shape:\", X_test.shape)"
   ]
  },
  {
   "cell_type": "markdown",
   "metadata": {
    "id": "fxmCY7qnsmEB"
   },
   "source": [
    "##LSTM model"
   ]
  },
  {
   "cell_type": "code",
   "execution_count": 69,
   "metadata": {
    "colab": {
     "base_uri": "https://localhost:8080/",
     "height": 211
    },
    "executionInfo": {
     "elapsed": 163,
     "status": "error",
     "timestamp": 1711751951742,
     "user": {
      "displayName": "anasua kundu",
      "userId": "08045432997393661669"
     },
     "user_tz": 240
    },
    "id": "TlvVFAj5toiF",
    "outputId": "a8af2e7e-f4c5-488a-e470-8ddb5cc572e4"
   },
   "outputs": [
    {
     "name": "stdout",
     "output_type": "stream",
     "text": [
      "working on experimnet  0  from  100\n",
      "working on experimnet  10  from  100\n",
      "working on experimnet  20  from  100\n",
      "working on experimnet  30  from  100\n",
      "working on experimnet  40  from  100\n",
      "working on experimnet  50  from  100\n",
      "working on experimnet  60  from  100\n",
      "working on experimnet  70  from  100\n",
      "working on experimnet  80  from  100\n",
      "working on experimnet  90  from  100\n",
      "Average AUC performance for the advanced LSTM model with BERT sentence embedding is: 0.9818642106113059 with 95% Confidence Interval of [ 0.9818642106113059 , 0.9818642106113059 ]\n",
      "The operation took  507.91  seconds\n"
     ]
    }
   ],
   "source": [
    "#Combining X_train and X_val\n",
    "X_combined_BERT = np.concatenate((X_train_BERT, X_val_BERT), axis=0)\n",
    "y_combined_BERT = np.concatenate((y_train, y_val), axis=0)\n",
    "\n",
    "random_seed(0, True)\n",
    "\n",
    "# Set device for PyTorch (GPU if available)\n",
    "device = torch.device(\"cuda\" if torch.cuda.is_available() else \"cpu\")\n",
    "\n",
    "# Standardize features of X_train\n",
    "scaler = StandardScaler()\n",
    "X_combined_BERT_scaled = scaler.fit_transform(X_combined_BERT)\n",
    "X_combined_BERT_scaled = torch.tensor(X_combined_BERT_scaled, dtype=torch.float32).to(device)\n",
    "X_combined_BERT_scaled = X_combined_BERT_scaled.unsqueeze(1)\n",
    "\n",
    "# Convert y_train labels to a PyTorch tensor\n",
    "label_encoder = LabelEncoder()\n",
    "y_combined_encoded = label_encoder.fit_transform(y_combined)\n",
    "y_combined_tensor = torch.tensor(y_combined_encoded, dtype=torch.long).to(device)\n",
    "\n",
    "# Standardize features of X_val\n",
    "scaler = StandardScaler()\n",
    "X_test_BERT_scaled = scaler.fit_transform(X_test_BERT)\n",
    "X_test_BERT_scaled = torch.tensor(X_test_BERT_scaled, dtype=torch.float32).to(device)\n",
    "X_test_BERT_scaled = X_test_BERT_scaled.unsqueeze(1)\n",
    "\n",
    "# Convert y_val labels to a PyTorch tensor\n",
    "label_encoder = LabelEncoder()\n",
    "y_test_encoded = label_encoder.fit_transform(y_test)\n",
    "y_test_tensor = torch.tensor(y_test_encoded, dtype=torch.long).to(device)\n",
    "\n",
    "# Hyperparameters\n",
    "learning_rate = 0.001\n",
    "epochs = 25\n",
    "\n",
    "# Initialize the LSTM model\n",
    "input_dim = X_combined_BERT_scaled.shape[2]\n",
    "model = ImprovedLSTM(input_dim=input_dim, hidden_dim=50, output_dim=3, num_layers=2, bidirectional=True, dropout_rate=0.5)\n",
    "model = model.to(device)\n",
    "\n",
    "# Loss and optimizer\n",
    "criterion = nn.CrossEntropyLoss()\n",
    "optimizer = optim.Adam(model.parameters(), lr=learning_rate)\n",
    "\n",
    "# Start time\n",
    "start_time = time.time()\n",
    "N = 100  # number of experiments\n",
    "experiments_performances = []\n",
    "for i in range(N):\n",
    "    if i%10==0:\n",
    "      print(\"working on experimnet \", i, ' from ', N)\n",
    "      # Training loop\n",
    "    for epoch in range(epochs):\n",
    "        model.train()\n",
    "        optimizer.zero_grad()\n",
    "        outputs = model(X_combined_BERT_scaled)\n",
    "        loss = criterion(outputs, y_combined_tensor)\n",
    "        loss.backward()\n",
    "        optimizer.step()\n",
    "\n",
    "    # Evaluate the model\n",
    "    model.eval()\n",
    "with torch.no_grad():\n",
    "    outputs = model(X_test_BERT_scaled)\n",
    "    predictions = torch.softmax(outputs, dim=1)\n",
    "    auc_score = roc_auc_score(y_test_tensor.cpu(), predictions.cpu(), multi_class='ovr')\n",
    "    experiments_performances.append(auc_score)\n",
    "\n",
    "mean_performance = np.mean(experiments_performances)\n",
    "std_performance = np.std(experiments_performances)\n",
    "CI_start = mean_performance - 1.96 * std_performance/np.sqrt(N)\n",
    "CI_end = mean_performance + 1.96 * std_performance/np.sqrt(N)\n",
    "print(\"Average AUC performance for the advanced LSTM model with BERT sentence embedding is:\", mean_performance, \"with 95% Confidence Interval of [\", CI_start, ',', CI_end, ']' )\n",
    "#time the ops\n",
    "end_time = time.time()\n",
    "elapsed_time = end_time - start_time\n",
    "print(\"The operation took \", round(elapsed_time, 2), \" seconds\")\n",
    "\n"
   ]
  },
  {
   "cell_type": "markdown",
   "metadata": {},
   "source": [
    "LSTM model with BERT sentence embedding had a higher performance than Word2Vec word or sentence embeddings."
   ]
  },
  {
   "cell_type": "markdown",
   "metadata": {
    "id": "uGB1Qyq3vmM-"
   },
   "source": [
    "### No. 6. tSNE to reduce dimensionalty of BERT embeddings\n"
   ]
  },
  {
   "cell_type": "code",
   "execution_count": 71,
   "metadata": {
    "id": "q7bsUlynv4cd"
   },
   "outputs": [
    {
     "data": {
      "image/png": "[encoded data removed]",
      "text/plain": [
       "<Figure size 1800x600 with 3 Axes>"
      ]
     },
     "metadata": {},
     "output_type": "display_data"
    }
   ],
   "source": [
    "from sklearn.manifold import TSNE\n",
    "import matplotlib.pyplot as plt\n",
    "import numpy as np\n",
    "\n",
    "# Initialize t-SNE\n",
    "tsne = TSNE(n_components=2, random_state=0)\n",
    "\n",
    "# Apply t-SNE transformation on X_train\n",
    "X_train_tsne = tsne.fit_transform(X_train_BERT)\n",
    "\n",
    "# Apply t-SNE transformation on X_val\n",
    "X_val_tsne = tsne.fit_transform(X_val_BERT)\n",
    "\n",
    "# Apply t-SNE transformation on X_test\n",
    "X_test_tsne = tsne.fit_transform(X_test_BERT)\n",
    "\n",
    "# Plot\n",
    "plt.figure(figsize=(18, 6))\n",
    "\n",
    "# Plot for X_train\n",
    "plt.subplot(1, 3, 1)\n",
    "unique_labels_train = np.unique(y_train)\n",
    "for label in unique_labels_train:\n",
    "    indices = (y_train == label)\n",
    "    plt.scatter(X_train_tsne[indices, 0], X_train_tsne[indices, 1], label=label)\n",
    "plt.title('2D t-SNE projection of X_train')\n",
    "plt.xlabel('t-SNE feature 1')\n",
    "plt.ylabel('t-SNE feature 2')\n",
    "plt.legend()\n",
    "\n",
    "# Plot for X_val\n",
    "plt.subplot(1, 3, 2)\n",
    "unique_labels_val = np.unique(y_val)\n",
    "for label in unique_labels_val:\n",
    "    indices = (y_val == label)\n",
    "    plt.scatter(X_val_tsne[indices, 0], X_val_tsne[indices, 1], label=label)\n",
    "plt.title('2D t-SNE projection of X_val')\n",
    "plt.xlabel('t-SNE feature 1')\n",
    "plt.ylabel('t-SNE feature 2')\n",
    "plt.legend()\n",
    "\n",
    "# Plot for X_test\n",
    "plt.subplot(1, 3, 3)\n",
    "unique_labels_test = np.unique(y_test)\n",
    "for label in unique_labels_test:\n",
    "    indices = (y_test == label)\n",
    "    plt.scatter(X_test_tsne[indices, 0], X_test_tsne[indices, 1], label=label)\n",
    "plt.title('2D t-SNE projection of X_test')\n",
    "plt.xlabel('t-SNE feature 1')\n",
    "plt.ylabel('t-SNE feature 2')\n",
    "plt.legend()\n",
    "\n",
    "plt.tight_layout()\n",
    "plt.show()"
   ]
  },
  {
   "cell_type": "markdown",
   "metadata": {},
   "source": [
    "There are obvious clustering between 3 labels. Also among label 2 (Results), there are some overlapping with label 1 (methods), some clustering exist."
   ]
  }
 ],
 "metadata": {
  "colab": {
   "provenance": [
    {
     "file_id": "1XE-_0wnPCTN50VjAo3sFulOq1mSXdu-V",
     "timestamp": 1711274441409
    }
   ]
  },
  "kernelspec": {
   "display_name": "Python 3 (ipykernel)",
   "language": "python",
   "name": "python3"
  },
  "language_info": {
   "codemirror_mode": {
    "name": "ipython",
    "version": 3
   },
   "file_extension": ".py",
   "mimetype": "text/x-python",
   "name": "python",
   "nbconvert_exporter": "python",
   "pygments_lexer": "ipython3",
   "version": "3.11.5"
  }
 },
 "nbformat": 4,
 "nbformat_minor": 4
}
